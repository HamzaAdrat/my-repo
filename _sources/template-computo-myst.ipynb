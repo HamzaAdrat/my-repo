{
 "cells": [
  {
   "cell_type": "markdown",
   "id": "93318aee",
   "metadata": {},
   "source": [
    "# Point process discrimination according to repulsion\n",
    "\n",
    "## Abstract\n",
    "In numerous applications, cloud of points do seem to exhibit *repulsion* in the intuitive sense that there is no local cluster as in a Poisson process. Motivated by data coming from cellular networks, we devise a classification algorithm based on the form of the Voronoi cells. We show that, in the particular set of data we are given, we can retrieve some repulsiveness between antennas, which was expected for engineering reasons.\n",
    "\n",
    "## Introduction\n",
    "In the performance analysis of cellular systems, the locations of antennas (or base stations) play a major role (see {cite}`BaccelliStochasticGeometryWireless2008`). It is usually admitted that they can be modeled by a Poisson process. But the data which can be gathered from the Web site of the French National Agency of Radio Frequencies, Cartoradio, see {cite}`ANFR`, tend to prove that this may not be the case. More precisely, if we look at the global picture of all antennas in Paris, we see features reminiscent of a Poisson process (local clusters for instance), see {numref}`paris-orange-fig`(left). However, if we look closer and finer, by specifying a region and a frequency band, we see that the antennas locations do seem to exhibit some repulsion (see {numref}`paris-orange-fig`, right picture).\n",
    "\n",
    "```{figure} /paris-orange.png\n",
    "---\n",
    "name: paris-orange-fig\n",
    "---\n",
    "Left: Antennas in Paris. Right: Antennas in one frequency  band only.\n",
    "\n",
    "```\n",
    "\n",
    "In previous papers, point processes with repulsion have been used to model such systems {cite}`Deng2014`, {cite}`Miyoshi2016`, {cite}`Gomez2015` for no reason but a mere resemblance between the pictures like the right picture in {numref}`paris-orange-fig` and those obtained by simulating a point process with repulsion. The question is then to decide, given one sample of positions of base stations in a bounded domain, whether it is more likely to be modeled by a point process with repulsion or by a *neutral* point process, i.e. where the locations could be considered as coming from independent drawings of some identically distributed random variables. As we only have a single realization,  we cannot use frequency methods. Since the observation window is finite, we cannot either resort to estimates based on stationarity or ergodicity and  we must take care from the side effects.\n",
    "\n",
    "The rationale behind our work comes from {cite}`goldman_palm_2010`. It is shown there  that the Voronoi cells of the Ginibre point process (a particular point process with repulsion, see below for the exact definition) are in some sense more regular (closer to a circle) than those of a Poisson process (see {eq}`theorem_goldman` in Theorem 1.). By simulation, this feature seem to persist for other point processes with repulsion, like Gibbs processes. It is this aspect that we use to construct our classification algorithm.\n",
    "We will simulate several configurations (repulsive and non-repulsive) with the same given  number of points $N$. For each configuration, we will compute the Voronoi diagrams and construct two vectors which will represent the input of our algorithm; an area vector containing the areas of the $10$ innermost Voronoi cells in order to avoid edge effects, plus $4$ other average areas from $20$ cells to have more information on the configuration. And a second perimeter vector which is constructed in the same way, containing the squared perimeters of the corresponding Voronoi cells.\n",
    "The choice of areas and square perimeters as aspects to our classification task is based on the *isoperimetric inequality in $\\mathbf{R}^2$ that states, for the length $P$ of a closed curve and the area $A$ of the planar region that it encloses, that\n",
    "```{math}\n",
    ":label: isoperimetric_inequality\n",
    "P^2 \\ge 4 \\pi A\n",
    "```\n",
    "and that equality holds if and only if the curve is a circle. After normalization, we test some classical ML models (logistic regression, random forest, support vector machine, XGBoost) to classify between repulsive and neutral point processes. The results are surprisingly good even though we trained our models only on Ginibre point processes to represent the whole family of point processes with repulsion.\n",
    "\n",
    "This paper is organized as follows. We first recall the theoretical notions that we will need in the rest of this paper. We will also briefly define the Papangelou intensity which is at the core of the definition of repulsion. In section 3 we show numerically, and based on two Machine Learning classification models, how the locations of antennas in Paris can be considered as repulsive configurations.\n",
    "\n",
    "## Preliminaries\n",
    "\n",
    " A configuration on $E=\\mathbf R^2$ is a locally finite (respectively finite) subset of $E$. The space of configurations (respectively finite configurations) is denoted $\\mathfrak N$ (respectively $\\mathfrak N_{f}$). We equip $\\mathfrak N$ with the topology of vague convergence, under which it is a complete, separable, metric space. We denote by $\\mathcal B(\\mathfrak N)$ the Borelean $\\sigma$-field on $\\mathfrak N$. A locally finite (respectively finite) point process is a random variable with values in $\\mathfrak N$ (respectively $\\mathfrak N_{f}$).\n",
    "\n",
    " **Definition 1.**\n",
    " Let $\\Phi$ be a locally finite point process on $E$. Its *correlation functions* $\\rho^{(k)} \\colon \\mathfrak N_{f} \\to \\mathbb R_+$ are given for any measurable function $f \\colon \\mathfrak N_{f} \\to \\mathbb R_+ $ by:\n",
    "\n",
    "$$\n",
    "\\mathbb{E}\\left[ \\sum_{\\substack{\\alpha \\in \\mathfrak N_{f} \\\\ \\alpha \\subset \\Phi}} f(\\alpha) \\right] = \\sum_{k=1}^{+ \\infty} \\frac{1}{k!} \\int_{(E)^k} f(\\{x_1, \\dots, x_k\\}) \\rho^{(k)}(\\{x_1, \\dots, x_k\\}) \\, d x_1 \\ldots d x_k .\n",
    "$$\n",
    "\n",
    "It is however easier to work with the so-called Janossy measures, whose links with correlation functions are given in {cite}`Daley2003`.\n",
    "\n",
    "**Definition 2.**\n",
    "Let $\\Phi$ be a finite point process on $E$. Its *Janossy measure* $J$ is given for any $A \\in \\mathcal B(\\mathfrak N_f)$ by:\n",
    "\n",
    "$$\n",
    "\\mathbb{P}(\\Phi \\in A) = \\sum_{k=1}^{+ \\infty} \\frac{1}{k!} J(A^{(k)}),\n",
    "$$\n",
    "\n",
    "where, for any $k \\in \\mathbb N^*, \\; A^{(k)} = \\{ \\phi \\in A,\\; \\phi(E) = k \\}$.\n",
    "\n",
    "**Definition 3.**\n",
    "Let $\\Phi$ be a finite point process on $E$. It is said to be regular if there exist *Janossy functions* $(j^{(k)}, k\\ge 0)$ such that for any measurable $f \\, \\colon \\, \\mathfrak N_{f}\\to \\mathbb R^{+}$, we have\n",
    "\n",
    "```{math}\n",
    ":label: janossy_functions\n",
    "E[ f(\\Phi) ] =  \\sum_{n\\ge 0} \\frac{1}{n!} \\int_{E^n} f(\\{x_1,\\dots,x_n\\}) \\, j^{(n)}(\\{x_1,\\dots,x_n\\}) d x_1 \\ldots d x_n.\n",
    "```\n",
    "\n",
    "With this definition in hand, we can define the concept of repulsion , following {cite}`Georgii2005`.\n",
    "\n",
    "**Definition 4.**\n",
    "For $\\Phi$  a finite point regular process on $E$ with Janossy functions $(j^{(k)},\\, k \\ge 0)$, its Papangelou intensity $c$ is given for any $x \\in E$ and $\\phi \\in \\mathfrak N_{f}$ by:\n",
    "\n",
    "$$\n",
    "c(x, \\phi) = \\frac{j^{(k+1)}(\\{x\\}\\cup \\phi)}{j^{(k)}(\\phi)} \\, \\mathbf{1}_{\\{j^{(k)}(\\phi) \\ne 0\\} } \\text{ if } \\phi(E)=k.\n",
    "$$\n",
    "\n",
    "The quantity $c(x,\\phi)$ can be intuitively thought as the probability to have a particle at $x$ given the observation $\\phi$. Intuitively a point process shows repulsion when $\\phi \\mapsto c(x,\\phi)$ is, in some sense, decreasing:\n",
    "\n",
    "**Definition 5.**\n",
    "A point process $\\Phi$ on $E$ with a version $c$ of its Papangelou intensity is said to be *repulsive* if, for any $\\omega, \\phi \\in \\mathfrak N_{f}$ such that $\\omega \\subset \\phi$ and any $x \\in E$,\n",
    "\n",
    "$$\n",
    "c(x,\\phi) \\le c(x, \\omega).\n",
    "$$\n",
    "\n",
    "With this definition, it is not hard to see that Gibbs point processes, determinantal point processes are repulsive (see {cite}`Georgii2005`, {cite}`HoughDeterminantalprocessesindependence2006`). We will not dwell into the vast literature about determinantal point processes, we only focus on the so-called Ginibre point process. It has the interesting feature that we know its distribution when restricted to a compact ball in $E$. For reasons which will be self-evident, we identify hereafter $\\mathbb R^{2}$ and $\\mathbb C$.\n",
    "\n",
    "**Definition 6.**\n",
    "The *Ginibre point process* with intensity $\\rho = \\frac{\\lambda}{\\pi}$ (with $\\lambda > 0$) is a locally finite point process on $\\mathbb C$ that can be defined by its correlation functions:\n",
    "\n",
    "```{math}\n",
    ":label: correlation_functions_determinantal\n",
    "\\rho^{(k)}(x_1, \\dots, x_k) = \\det(K(x_i, x_j), \\; 1\\le i,j \\le k)\n",
    "```\n",
    "where $K$ is given by:\n",
    "\n",
    "$$\n",
    "K(x,y) = \\rho \\, e^{-\\frac{\\lambda}{2}(|x|^2 + |y|^2)}e^{\\lambda x \\bar{y}},\\ \\forall \\, (x,y) \\in \\mathbb C^2.\n",
    "$$\n",
    "\n",
    "When restricted to the $B(0,R)$, the Ginibre point process admits correlation functions of the form {eq}`correlation_functions_determinantal` with $K=K_R$ given by:\n",
    "\n",
    "```{math}\n",
    ":label: eq_main:1\n",
    "K_R(x,y)=\\sum_{j=1}^{+\\infty} \\frac{\\gamma(j+1,R^2)}{j!} \\phi_j(x)\\phi_j(\\bar y)\n",
    "```\n",
    "with\n",
    "\n",
    "$$\n",
    "\\phi_j(x)=\\sqrt{\\frac{\\rho}{\\gamma(j+1,R^2)}} \\left(\\sqrt{\\lambda}x\\right)^j\\, e^{-\\frac{\\lambda}{2} |x|^2},\n",
    "$$\n",
    "\n",
    "and $\\gamma(n,x)$ is the lower incomplete Gamma function.\n",
    "\n",
    "The simulation of such a point process is a delicate matter, first solved in {cite}`HoughDeterminantalprocessesindependence2006`. It remains costly because the algorithm contains complex calculations and some rejections. In order to fasten the procedure, an approximate algorithm has been given in {cite}`MR4279876` (see the bibliography therein to get the URL of the Python code).\n",
    "\n",
    "For an at most denumerable set of points $\\{x_{n}, \\, n\\ge 1\\}$, the Voronoi cells are defined as the convex sets\n",
    "\n",
    "$$\n",
    "\\mathcal{C}(x_{i})=\\{z\\in \\mathbb C,\\ |z-x_{i}|\\le |z-x_{j}|  \\text{ for all }j\\neq i\\}.\n",
    "$$\n",
    "\n",
    "When the points are drawn from a point process, we thus have a collection of random closed sets. When the process under consideration is stationary with respect to translations, it is customary to define the typical law of a Voronoi cell as the law of the cell containing the origin of $\\mathbb R^{2}$ when the point process is taken under its Palm distribution {cite}`goldman_palm_2010`, {cite}`BaccelliStochasticGeometryWireless2009`. It turns out that we know the Palm distribution of the Poisson process (which is itself) and of the Ginibre point process (the correlation functions are of the form {eq}`correlation_functions_determinantal` with $K$ being $K_{R}$ with the first term removed).\n",
    "We denote by $\\mathcal{C}_p$ (respectively $C_{G}$) the typical cell of the Voronoi tessellation associated to a stationary Poisson process in $\\mathbb C$ with intensity $\\lambda$ (respectively to the Ginibre point process of intensity $\\rho$). One of the main theorems of {cite}`goldman_palm_2010` is the following.\n",
    "\n",
    "**Theorem 1.**\n",
    "When $r \\to 0,$\n",
    "```{math}\n",
    ":label: theorem_goldman\n",
    "\\mathbb{E} \\left[ V(\\mathcal{C}_{G} \\cap B(0,r)) \\right] = \\mathbb{E} \\left[ V(\\mathcal{C}_p \\cap B(0,r)) \\right] (1 + r^2 W + \\circ(r^2))\n",
    "```\n",
    "where $W$ is a positive random variable.\n",
    "\n",
    "This theorem shows that near the germs of the cells a more important part of the area is captured in the Ginibre–Voronoi tessellation than in the Poisson–Voronoi tessellation. This is an indication that the Voronoi cells of the Ginibre point process are more circular than those given by the Poisson process. This can be corroborated by simulation as shows the {numref}`voronoi-fig`\n",
    "\n",
    "```{figure} /Voronoi.png\n",
    "---\n",
    "name: voronoi-fig\n",
    "---\n",
    "On the left, Voronoi associated to a realization of a Poisson process. On the right, Voronoi cells associated to a realization of a Ginibre point process.\n",
    "```\n",
    "\n",
    "As we know that circles saturate the isoperimetric inequality, it is sensible to consider classification algorithms based on area and squared perimeter of Voronoi cells. In order to avoid side effects, we concentrate on the innermost cells of the observation window.\n",
    "\n",
    "## Classification of CARTORADIO data\n",
    "\n",
    "The Cartoradio web site contains the locations (in GPS coordinates) and other informations about all the antennas (or base stations) in metropolitan France for any operator, any frequency band and all generation of wireless systems (2G to 5G). The capacity of an antenna depends on its power and on the traffic demand it has to serve.  Outside metropolitan areas, the antennas are relatively scarce and located along the main roads to guarantee a large surface coverage (around 30 km$^2$). Hence there is no need to  construct models for these regions.  On the contrary, in big towns, the density of base stations is much higher to handle the traffic demand: An antenna covers around half a squared kilometer. This is  where the dimensioning problem do appear. One should have a sufficient number of antennas per unit of surface to transport all the traffic, on the other hand, base stations operating in a given frequency band cannot be to close to mitigate interference. This explains the right picture of Figure {numref}`paris-orange-fig`.\n",
    "\n",
    "When it comes to assess the type of point process we should consider in this situation, we cannot consider the city as a whole: the geography (notably the Seine river in Paris, the parks, etc.), the non uniformity of demands (the traffic is heavier aroung railway stations or touristic sites,  for instance) which entails a higher density of antennas,  ruin any kind of invariance a statistician  could hope for. That means, we should restrict our expectations to local models of  the size of a district or a bit more. Since interference, which are the main annoyance to be dealt with, are a local phenomenon, working on a partial part of the whole domain is sufficient to predict the behavior and dimension a wireless network. \n",
    "\n",
    "\n",
    "### Model training\n",
    "\n",
    "Given a circular domain with $N$ points, we want to decide whether the points exhibit  repulsion or not. Since the repulsion is not sensitive to scaling, we normalize the radius to $R=\\sqrt{N}$. This is due to the fact that a cloud drawn from a  Ginibre point process of intensity $1$  with $N$ points occupies roughly a disk with this radius. We train our models on datas issued from drawings of Ginibre configuration and from drawings of $N$ points independently and uniformly scattered in $B(0,\\sqrt{N})$.\n",
    "\n",
    "For each of the previous samples, we compute the Voronoi diagrams and retain only the $10$ cells which are the closest to the barycenter of the configuration in order to avoid side effects. We then  extract the areas and the perimeters  of these cells. In principle, this should be enough to have a good classification algorithm. We noticed that in addition to thes quantities, it dramatically improves the results of the classification of we add  the mean of the first $5$, $10$, $15$ and $20$ cells' areas in order to have a more global information.\n",
    "\n",
    "The final data will be a set of observations where each one contains $29$ columns described as follow:\n",
    "- For $1 \\le i \\le 10, \\; \\mathrm{V}_i$ is the area of the $i^{\\mathrm{th}}$ Voronoi cell.\n",
    "- For $1 \\le j \\le 10, \\; \\mathrm{P}_j$ is the square perimeter of the $j^{\\mathrm{th}}$ Voronoi cell.\n",
    "- For $k \\in \\{5, 10, 15, 20\\}, \\; \\mathrm{MV}_{k}$ (respectively $\\mathrm{MP}_{k}$) is the average area (respectively square perimeter) of the first $k$ Voronoi cells.\n",
    "- A binary column that represent the type of the initial configuration ($1$ for repulsive/Ginibre - $0$ for non-repulsive/Poisson).\n",
    "\n",
    "The final column will be the target variable for our classification models."
   ]
  },
  {
   "cell_type": "code",
   "execution_count": 1,
   "id": "9a0181b9",
   "metadata": {
    "tags": [
     "show-output",
     "show-input"
    ]
   },
   "outputs": [
    {
     "name": "stdout",
     "output_type": "stream",
     "text": [
      "Importing libraries ...\n",
      "Compiling functions ...\n"
     ]
    }
   ],
   "source": [
    "import numpy as np\n",
    "import pandas as pd\n",
    "import scipy.stats\n",
    "import matplotlib.pyplot as plt\n",
    "import seaborn as sns\n",
    "from scipy.spatial import Delaunay, Voronoi, ConvexHull\n",
    "\n",
    "font = {'family': 'serif', 'color':  'black', 'weight': 'normal', 'size': 11,}\n",
    "\n",
    "# Useful functions for creating the data:\n",
    "\n",
    "def convert_complex_points(l):\n",
    "    return l.real, l.imag\n",
    "\n",
    "def convert_lists_to_points(l1, l2):\n",
    "    return np.array([l1, l2]).T\n",
    "\n",
    "def extract_Voronoi_areas(vor):  \n",
    "    areas= []\n",
    "    perim = []\n",
    "    for i in range(len(vor.filtered_regions)):\n",
    "        areas.append(round(ConvexHull(vor.vertices[vor.filtered_regions[i], :]).volume, 2))\n",
    "        perim.append(round(ConvexHull(vor.vertices[vor.filtered_regions[i], :]).area, 2))\n",
    "    return areas, list(np.around((np.array(perim))**2, 2))\n",
    "\n",
    "def in_box(towers, bounding_box):\n",
    "    return np.logical_and(np.logical_and(bounding_box[0] <= towers[:, 0], towers[:, 0] <= bounding_box[1]),\n",
    "                          np.logical_and(bounding_box[2] <= towers[:, 1], towers[:, 1] <= bounding_box[3]))\n",
    "\n",
    "\n",
    "def voronoi(towers, bounding_box, N):\n",
    "    # Select towers inside the bounding box\n",
    "    i = in_box(towers, bounding_box)\n",
    "    # Mirror points\n",
    "    points_center = towers[i, :]\n",
    "    points_left = np.copy(points_center)\n",
    "    points_left[:, 0] = bounding_box[0] - (points_left[:, 0] - bounding_box[0])\n",
    "    points_right = np.copy(points_center)\n",
    "    points_right[:, 0] = bounding_box[1] + (bounding_box[1] - points_right[:, 0])\n",
    "    points_down = np.copy(points_center)\n",
    "    points_down[:, 1] = bounding_box[2] - (points_down[:, 1] - bounding_box[2])\n",
    "    points_up = np.copy(points_center)\n",
    "    points_up[:, 1] = bounding_box[3] + (bounding_box[3] - points_up[:, 1])\n",
    "    points = np.append(points_center,\n",
    "                       np.append(np.append(points_left, points_right, axis=0),\n",
    "                                 np.append(points_down, points_up, axis=0),\n",
    "                                 axis=0),\n",
    "                       axis=0)\n",
    "    # Compute Voronoi\n",
    "    vor = Voronoi(points)\n",
    "    # Filter regions\n",
    "    # regions = []\n",
    "    # [vor.point_region[i] for i in range(N)]\n",
    "\n",
    "    vor.filtered_points = points_center\n",
    "    vor.filtered_regions = [vor.regions[vor.point_region[i]] for i in range(len(points_center))]\n",
    "    return vor\n",
    "\n",
    "def dpp_Moroz(N):\n",
    "    radius = int(np.sqrt(N)) ; precision = 2**-53 ; error = False ; quiet=True ; output=None \n",
    "    args = [radius, N, kernels['ginibre'], precision, error, quiet, output]\n",
    "    \n",
    "    moroz_dpp = sample(*args)\n",
    "    X_dpp_Mz, Y_dpp_Mz = convert_complex_points(moroz_dpp)\n",
    "    X_dpp_Mz = X_dpp_Mz*((np.sqrt(N))/radius) ; Y_dpp_Mz = Y_dpp_Mz*((np.sqrt(N))/radius)\n",
    "    dpp_Mz_points = convert_lists_to_points(X_dpp_Mz, Y_dpp_Mz)\n",
    "    \n",
    "    indices = np.argsort((dpp_Mz_points[:,0])**2 + ((dpp_Mz_points[:,1])**2))\n",
    "    dpp_Mz_points = dpp_Mz_points[indices]\n",
    "    \n",
    "    dpp_Mz_vor = voronoi(dpp_Mz_points, (-np.sqrt(N)-.1, np.sqrt(N)+.1, -np.sqrt(N)-.1, np.sqrt(N)+.1), len(dpp_Mz_points))\n",
    "    Voronoi_areas, Voronoi_perim = extract_Voronoi_areas(dpp_Mz_vor)\n",
    "    \n",
    "    return [Voronoi_areas, Voronoi_perim, 1]\n",
    "\n",
    "def random_process(N):\n",
    "    radius = np.sqrt(N)\n",
    "    alpha = 2*np.pi*scipy.stats.uniform.rvs(0,1,N)\n",
    "    r = radius*np.sqrt(scipy.stats.uniform.rvs(0,1,N))\n",
    "    \n",
    "    X_rand, Y_rand = r*np.cos(alpha), r*np.sin(alpha)\n",
    "    rand_points = convert_lists_to_points(X_rand, Y_rand)\n",
    "    \n",
    "    indices = np.argsort((rand_points[:,0])**2 + ((rand_points[:,1])**2))\n",
    "    rand_points = rand_points[indices]\n",
    "    \n",
    "    rand_vor = voronoi(rand_points, (-radius -.1, radius +.1, -radius -.1, radius +.1), len(rand_points))\n",
    "    Voronoi_areas, Voronoi_perim = extract_Voronoi_areas(rand_vor)\n",
    "    \n",
    "    return [Voronoi_areas, Voronoi_perim, 0]\n",
    "\n",
    "def create_dataframe(N, observations):\n",
    "    list_df = []\n",
    "    for i in range(observations):\n",
    "        list_df.append(dpp_Moroz(N))\n",
    "        list_df.append(random_process(N))\n",
    "    df = pd.DataFrame(list_df, columns =['Voronoi_areas', 'Voronoi_perim', 'Type'])\n",
    "    return df\n",
    "\n",
    "def normalize(vec):\n",
    "    vec = np.array(vec)\n",
    "    m, e = np.mean(vec), np.sqrt(np.var(vec))\n",
    "    return (vec - m)/e\n",
    "\n",
    "def compute_mean(l, n):\n",
    "    if n <= len(l):\n",
    "        new_l = np.array(list(list(zip(*l))[:n])).T\n",
    "    else:\n",
    "        new_l = np.array(list(list(zip(*l))[:len(l)])).T\n",
    "\n",
    "    return np.mean(new_l, axis=1)\n",
    "\n",
    "def single_area(l, k):\n",
    "    l = np.array(l)\n",
    "    return l[:,k]\n",
    "\n",
    "def transform_df(odf):\n",
    "    \n",
    "    list_V = odf['Voronoi_areas'].tolist()\n",
    "    list_P = odf['Voronoi_perim'].tolist()\n",
    "    \n",
    "    [MV5, MV10, MV15, MV20] = [compute_mean(list_V, n) for n in [5, 10, 15, 20]]\n",
    "    [MP5, MP10, MP15, MP20] = [compute_mean(list_P, n) for n in [5, 10, 15, 20]]\n",
    "    \n",
    "    normalized_V10 = [normalize(list_V[i][:10]) for i in range(odf.shape[0])]\n",
    "    normalized_P10 = [normalize(list_P[i][:10]) for i in range(odf.shape[0])]\n",
    "    \n",
    "    [V1, V2, V3, V4, V5, V6, V7, V8, V9, V10] = [single_area(normalized_V10, k) for k in range(10)]\n",
    "    [P1, P2, P3, P4, P5, P6, P7, P8, P9, P10] = [single_area(normalized_P10, k) for k in range(10)]\n",
    "    \n",
    "    dict_df = {'V1':V1, 'V2':V2, 'V3':V3, 'V4':V4, 'V5':V5, 'V6':V6, 'V7':V7, 'V8':V8, 'V9':V9, 'V10':V10,\n",
    "               'MV5':MV5, 'MV10':MV10, 'MV15':MV15, 'MV20':MV20,\n",
    "               'P1':P1, 'P2':P2, 'P3':P3, 'P4':P4, 'P5':P5, 'P6':P6, 'P7':P7, 'P8':P8, 'P9':P9, 'P10':P10,\n",
    "               'MP5':MP5, 'MP10':MP10, 'MP15':MP15, 'MP20':MP20,\n",
    "               'type': odf['Type']}\n",
    "    \n",
    "    return pd.DataFrame(dict_df)\n",
    "\n",
    "%run -i Moroz_dpp.py"
   ]
  },
  {
   "cell_type": "markdown",
   "id": "79605642",
   "metadata": {},
   "source": [
    "Here is an example of the data created. We generate a data of $2,000$ observations of configurations ($1,000$ repulsive and $1,000$ non repulsive) of $N = 24$ points."
   ]
  },
  {
   "cell_type": "code",
   "execution_count": 2,
   "id": "0354d041",
   "metadata": {
    "tags": [
     "show-output",
     "show-input"
    ]
   },
   "outputs": [
    {
     "ename": "KeyboardInterrupt",
     "evalue": "",
     "output_type": "error",
     "traceback": [
      "\u001b[0;31m---------------------------------------------------------------------------\u001b[0m",
      "\u001b[0;31mKeyboardInterrupt\u001b[0m                         Traceback (most recent call last)",
      "Cell \u001b[0;32mIn[2], line 1\u001b[0m\n\u001b[0;32m----> 1\u001b[0m ddf \u001b[38;5;241m=\u001b[39m \u001b[43mcreate_dataframe\u001b[49m\u001b[43m(\u001b[49m\u001b[38;5;241;43m24\u001b[39;49m\u001b[43m,\u001b[49m\u001b[43m \u001b[49m\u001b[38;5;241;43m1000\u001b[39;49m\u001b[43m)\u001b[49m\n\u001b[1;32m      2\u001b[0m ddf_transformed \u001b[38;5;241m=\u001b[39m transform_df(ddf)\n\u001b[1;32m      3\u001b[0m ddf_transformed\u001b[38;5;241m.\u001b[39mhead()\n",
      "Cell \u001b[0;32mIn[1], line 95\u001b[0m, in \u001b[0;36mcreate_dataframe\u001b[0;34m(N, observations)\u001b[0m\n\u001b[1;32m     93\u001b[0m list_df \u001b[38;5;241m=\u001b[39m []\n\u001b[1;32m     94\u001b[0m \u001b[38;5;28;01mfor\u001b[39;00m i \u001b[38;5;129;01min\u001b[39;00m \u001b[38;5;28mrange\u001b[39m(observations):\n\u001b[0;32m---> 95\u001b[0m     list_df\u001b[38;5;241m.\u001b[39mappend(\u001b[43mdpp_Moroz\u001b[49m\u001b[43m(\u001b[49m\u001b[43mN\u001b[49m\u001b[43m)\u001b[49m)\n\u001b[1;32m     96\u001b[0m     list_df\u001b[38;5;241m.\u001b[39mappend(random_process(N))\n\u001b[1;32m     97\u001b[0m df \u001b[38;5;241m=\u001b[39m pd\u001b[38;5;241m.\u001b[39mDataFrame(list_df, columns \u001b[38;5;241m=\u001b[39m[\u001b[38;5;124m'\u001b[39m\u001b[38;5;124mVoronoi_areas\u001b[39m\u001b[38;5;124m'\u001b[39m, \u001b[38;5;124m'\u001b[39m\u001b[38;5;124mVoronoi_perim\u001b[39m\u001b[38;5;124m'\u001b[39m, \u001b[38;5;124m'\u001b[39m\u001b[38;5;124mType\u001b[39m\u001b[38;5;124m'\u001b[39m])\n",
      "Cell \u001b[0;32mIn[1], line 63\u001b[0m, in \u001b[0;36mdpp_Moroz\u001b[0;34m(N)\u001b[0m\n\u001b[1;32m     60\u001b[0m radius \u001b[38;5;241m=\u001b[39m \u001b[38;5;28mint\u001b[39m(np\u001b[38;5;241m.\u001b[39msqrt(N)) ; precision \u001b[38;5;241m=\u001b[39m \u001b[38;5;241m2\u001b[39m\u001b[38;5;241m*\u001b[39m\u001b[38;5;241m*\u001b[39m\u001b[38;5;241m-\u001b[39m\u001b[38;5;241m53\u001b[39m ; error \u001b[38;5;241m=\u001b[39m \u001b[38;5;28;01mFalse\u001b[39;00m ; quiet\u001b[38;5;241m=\u001b[39m\u001b[38;5;28;01mTrue\u001b[39;00m ; output\u001b[38;5;241m=\u001b[39m\u001b[38;5;28;01mNone\u001b[39;00m \n\u001b[1;32m     61\u001b[0m args \u001b[38;5;241m=\u001b[39m [radius, N, kernels[\u001b[38;5;124m'\u001b[39m\u001b[38;5;124mginibre\u001b[39m\u001b[38;5;124m'\u001b[39m], precision, error, quiet, output]\n\u001b[0;32m---> 63\u001b[0m moroz_dpp \u001b[38;5;241m=\u001b[39m \u001b[43msample\u001b[49m\u001b[43m(\u001b[49m\u001b[38;5;241;43m*\u001b[39;49m\u001b[43margs\u001b[49m\u001b[43m)\u001b[49m\n\u001b[1;32m     64\u001b[0m X_dpp_Mz, Y_dpp_Mz \u001b[38;5;241m=\u001b[39m convert_complex_points(moroz_dpp)\n\u001b[1;32m     65\u001b[0m X_dpp_Mz \u001b[38;5;241m=\u001b[39m X_dpp_Mz\u001b[38;5;241m*\u001b[39m((np\u001b[38;5;241m.\u001b[39msqrt(N))\u001b[38;5;241m/\u001b[39mradius) ; Y_dpp_Mz \u001b[38;5;241m=\u001b[39m Y_dpp_Mz\u001b[38;5;241m*\u001b[39m((np\u001b[38;5;241m.\u001b[39msqrt(N))\u001b[38;5;241m/\u001b[39mradius)\n",
      "File \u001b[0;32m~/work/my-repo/my-repo/Moroz_dpp.py:324\u001b[0m, in \u001b[0;36msample\u001b[0;34m(R, N, kernel, precision, error, quiet, output)\u001b[0m\n\u001b[1;32m    322\u001b[0m \u001b[38;5;28;01mif\u001b[39;00m \u001b[38;5;129;01mnot\u001b[39;00m quiet:\n\u001b[1;32m    323\u001b[0m     \u001b[38;5;28mprint\u001b[39m(\u001b[38;5;124m'\u001b[39m\u001b[38;5;124mSampling the points ...\u001b[39m\u001b[38;5;124m'\u001b[39m)\n\u001b[0;32m--> 324\u001b[0m V, W \u001b[38;5;241m=\u001b[39m \u001b[43msample_points\u001b[49m\u001b[43m(\u001b[49m\u001b[43mkernel\u001b[49m\u001b[43m,\u001b[49m\u001b[43m \u001b[49m\u001b[43mR\u001b[49m\u001b[43m,\u001b[49m\u001b[43m \u001b[49m\u001b[43mI\u001b[49m\u001b[43m,\u001b[49m\u001b[43m \u001b[49m\u001b[43mprecision\u001b[49m\u001b[43m,\u001b[49m\u001b[43m \u001b[49m\u001b[43mprint_point_txt\u001b[49m\u001b[43m)\u001b[49m\n\u001b[1;32m    325\u001b[0m \u001b[38;5;28;01mif\u001b[39;00m \u001b[38;5;129;01mnot\u001b[39;00m quiet:\n\u001b[1;32m    326\u001b[0m     \u001b[38;5;28mprint\u001b[39m()\n",
      "File \u001b[0;32m~/work/my-repo/my-repo/Moroz_dpp.py:80\u001b[0m, in \u001b[0;36msample_points\u001b[0;34m(kernel, R, I, epsilon, print_point)\u001b[0m\n\u001b[1;32m     77\u001b[0m print_point(px, py, n\u001b[38;5;241m-\u001b[39mi)\n\u001b[1;32m     79\u001b[0m \u001b[38;5;66;03m# Compute new vector ei\u001b[39;00m\n\u001b[0;32m---> 80\u001b[0m phi \u001b[38;5;241m=\u001b[39m g(I,r)\u001b[38;5;241m*\u001b[39mnp\u001b[38;5;241m.\u001b[39mexp(\u001b[38;5;241;43m1\u001b[39;49m\u001b[43mj\u001b[49m\u001b[38;5;241;43m*\u001b[39;49m\u001b[43malpha\u001b[49m\u001b[38;5;241;43m*\u001b[39;49m\u001b[43mI\u001b[49m)\u001b[38;5;241m*\u001b[39mnp\u001b[38;5;241m.\u001b[39msqrt(invLambdas)\n\u001b[1;32m     81\u001b[0m l, u \u001b[38;5;241m=\u001b[39m _argtruncate(phi, epsilon)\n\u001b[1;32m     82\u001b[0m phi \u001b[38;5;241m=\u001b[39m V[:, l:u]\u001b[38;5;241m.\u001b[39mdot(phi[l:u])\n",
      "\u001b[0;31mKeyboardInterrupt\u001b[0m: "
     ]
    }
   ],
   "source": [
    "ddf = create_dataframe(24, 1000)\n",
    "ddf_transformed = transform_df(ddf)\n",
    "ddf_transformed.head()"
   ]
  },
  {
   "cell_type": "markdown",
   "id": "9098e694",
   "metadata": {},
   "source": [
    "### Classification models\n",
    "\n",
    "In this section, we  train and test some Machine Learning models using the data we've created in the previous section. For a start we  select all the columns as inputs to our models (this can lead to false predictions, especially if some columns share the same information). Note that  we  only use baseline models, i.e. all the hyperparameters' values are taken as defaults, (a grid search can be used later in order to select the optimal hyperparameters for each model).\n",
    "\n",
    "The models we use in this paper are:\n",
    "- Logistic regression, which is a classification algorithm, used when the value of the target variable is categorical in nature. Logistic regression is most commonly used when the data in question has binary output, so when it belongs to one class or another, or is either a $0$ or $1$.\n",
    "- Random forest, a meta estimator that fits a number of decision tree classifiers on various sub-samples of the dataset and uses averaging to improve the accuracy and control over-fitting.\n",
    "\n",
    "Two other classification models (Support Vector Machine and XGBoost) have been tested but did not yield more significant results than those two models."
   ]
  },
  {
   "cell_type": "code",
   "execution_count": null,
   "id": "628ea0e9",
   "metadata": {
    "tags": [
     "show-output",
     "show-input"
    ]
   },
   "outputs": [],
   "source": [
    "from sklearn.pipeline import make_pipeline\n",
    "from sklearn.preprocessing import StandardScaler\n",
    "\n",
    "from sklearn.linear_model import LogisticRegression\n",
    "from sklearn.ensemble import RandomForestClassifier\n",
    "\n",
    "from sklearn.model_selection import train_test_split\n",
    "from sklearn.metrics import confusion_matrix, classification_report, roc_curve, roc_auc_score\n",
    "\n",
    "# Useful function for evaluating our models:\n",
    "\n",
    "def model_Evaluate(model, x_tt, y_tt):\n",
    "    y_pred = model.predict(x_tt)\n",
    "    print(classification_report(y_tt, y_pred))\n",
    "    \n",
    "    cf_matrix = confusion_matrix(y_tt, y_pred)\n",
    "    categories  = ['Negative','Positive']\n",
    "    group_names = ['True Neg','False Pos', 'False Neg','True Pos']\n",
    "    group_percentages = ['{0:.2%}'.format(value) for value in cf_matrix.flatten() / np.sum(cf_matrix)]\n",
    "\n",
    "    labels = [f'{v1}\\n{v2}' for v1, v2 in zip(group_names,group_percentages)]\n",
    "    labels = np.asarray(labels).reshape(2,2)\n",
    "    \n",
    "    logit_roc_auc = roc_auc_score(y_tt, model.predict(x_tt))\n",
    "    fpr, tpr, thresholds = roc_curve(y_tt, model.predict_proba(x_tt)[:,1])\n",
    "    \n",
    "    fig = plt.figure(figsize=(12, 5))\n",
    "    # Adds subplot on position 1\n",
    "    ax = fig.add_subplot(121)\n",
    "    sns.heatmap(cf_matrix, annot = labels, cmap = 'Blues',fmt = '', xticklabels = categories, yticklabels = categories)\n",
    "    ax.set_title(\"Confusion Matrix\", fontdict = {'size':18}, pad = 20)\n",
    "    ax.set(xlabel='Predicted values', ylabel='Actual values')\n",
    "\n",
    "    # Adds subplot on position 2\n",
    "    ax = fig.add_subplot(122)\n",
    "    ax.plot(fpr, tpr, label='area = %0.2f' % logit_roc_auc)\n",
    "    ax.plot([0, 1], [0, 1],'r--', label='Standard')\n",
    "    ax.set_xlim([-0.02, 1.02])\n",
    "    ax.set_ylim([0.0, 1.05])\n",
    "    \n",
    "    thresholds_rounded = [round(num, 1) for num in thresholds]\n",
    "    for threshold in [0.1, 0.2, 0.3, 0.4, 0.5, 0.6, 0.7, 0.8, 0.9]:\n",
    "        if threshold in thresholds_rounded:\n",
    "            index = thresholds_rounded.index(threshold)\n",
    "            ax.annotate(threshold, (fpr[index], tpr[index]))\n",
    "\n",
    "    ax.set_title('Receiver Operating Characteristic (ROC)')\n",
    "    ax.set(xlabel='False Positive Rate (1-specificity)', ylabel='True Positive Rate (sensitivity)')\n",
    "    ax.legend(loc=\"lower right\")\n",
    "    ax.grid()\n",
    "    plt.show()\n",
    "\n",
    "\n",
    "model_cols = ['V1', 'V2', 'V3', 'V4', 'V5', 'V6', 'V7', 'V8', 'V9', 'V10', 'MV5', 'MV10', 'MV15', 'MV20',\n",
    "             'P1', 'P2', 'P3', 'P4', 'P5', 'P6', 'P7', 'P8', 'P9', 'P10', 'MP5', 'MP10', 'MP15', 'MP20']\n",
    "X = ddf_transformed[model_cols].values\n",
    "y = ddf_transformed['type'].values\n",
    "X_train, X_test, y_train, y_test = train_test_split(X, y, test_size=0.3, shuffle= True, random_state=7)"
   ]
  },
  {
   "cell_type": "markdown",
   "id": "e89e5287",
   "metadata": {},
   "source": [
    "Here are the results of the logistic regression"
   ]
  },
  {
   "cell_type": "code",
   "execution_count": null,
   "id": "460ae03d",
   "metadata": {
    "tags": [
     "show-output",
     "show-input"
    ]
   },
   "outputs": [],
   "source": [
    "Baseline_LR = make_pipeline(StandardScaler(), LogisticRegression())\n",
    "Baseline_LR.fit(X_train, y_train)\n",
    "model_Evaluate(Baseline_LR, X_test, y_test)"
   ]
  },
  {
   "cell_type": "markdown",
   "id": "9dfb43f6",
   "metadata": {},
   "source": [
    "Here are the results of the random forest"
   ]
  },
  {
   "cell_type": "code",
   "execution_count": null,
   "id": "997876b9",
   "metadata": {
    "tags": [
     "show-output",
     "show-input"
    ]
   },
   "outputs": [],
   "source": [
    "baseline_RF = RandomForestClassifier()\n",
    "baseline_RF.fit(X_train,y_train)\n",
    "model_Evaluate(baseline_RF, X_test, y_test)"
   ]
  },
  {
   "cell_type": "markdown",
   "id": "e6bbccbd",
   "metadata": {},
   "source": [
    "### Testing on CARTORADIO data\n",
    "\n",
    "CARTORADIO data is a set of configurations of some mobile phone base stations in Paris. The goal is to decide from the classification models already used, whether the configuration do present some repulsion.\n",
    "\n",
    "The initial data (positions of the  antennas) cover a large area of the city of Paris (see {numref}`cartoradio-fig`(right))\n",
    "With a real dataset,  we often encounter the problem of heterogeneity between the different parts of the configurations since they depend on the topology  of the space in which the antennas are placed.\n",
    "\n",
    "To cope with this problem, we  extract from each configuration a representative sample similar to the type of training data so that the tests make sense. {numref}`cartoradio-fig` (left) shows a sample extracted from a given configuration.\n",
    "\n",
    "```{figure} /cartoradio.png\n",
    "---\n",
    "name: cartoradio-fig\n",
    "---\n",
    "On the left, Initial cartoradio configuration. On the right, Sample extracted from it and scaled.\n",
    "```\n",
    "\n",
    "In the following, we  read the CARTORADIA directly from the \"data_cartoradio.csv\" file."
   ]
  },
  {
   "cell_type": "code",
   "execution_count": null,
   "id": "91fcfdfd",
   "metadata": {},
   "outputs": [],
   "source": [
    "# Useful functions to transform the CARTORADIO data\n",
    "\n",
    "def update_df(odf): \n",
    "    converted_V = odf['Voronoi_areas'].str[1:-1].str.split(',').tolist()\n",
    "    converted_P = odf['Voronoi_perim'].str[1:-1].str.split(',').tolist()\n",
    "    \n",
    "    list_V = [(np.float_(converted_V[i])).tolist() for i in range(odf.shape[0])]\n",
    "    list_P = [(np.float_(converted_P[i])).tolist() for i in range(odf.shape[0])]\n",
    "    \n",
    "    list_N = [len(list_V[i]) for i in range(odf.shape[0])]\n",
    "    \n",
    "    [MV5, MV10, MV15, MV20] = [compute_mean(list_V, n) for n in [5, 10, 15, 20]]\n",
    "    [MP5, MP10, MP15, MP20] = [compute_mean(list_P, n) for n in [5, 10, 15, 20]]\n",
    "    \n",
    "    normalized_V10 = [normalize(list_V[i][:10]) for i in range(odf.shape[0])]\n",
    "    normalized_P10 = [normalize(list_P[i][:10]) for i in range(odf.shape[0])]\n",
    "    \n",
    "    [V1, V2, V3, V4, V5, V6, V7, V8, V9, V10] = [single_area(normalized_V10, k) for k in range(10)]\n",
    "    [P1, P2, P3, P4, P5, P6, P7, P8, P9, P10] = [single_area(normalized_P10, k) for k in range(10)]\n",
    "    \n",
    "    dict_df = {'V1':V1, 'V2':V2, 'V3':V3, 'V4':V4, 'V5':V5, 'V6':V6, 'V7':V7, 'V8':V8, 'V9':V9, 'V10':V10,\n",
    "               'MV5':MV5, 'MV10':MV10, 'MV15':MV15, 'MV20':MV20,\n",
    "               'P1':P1, 'P2':P2, 'P3':P3, 'P4':P4, 'P5':P5, 'P6':P6, 'P7':P7, 'P8':P8, 'P9':P9, 'P10':P10,\n",
    "               'MP5':MP5, 'MP10':MP10, 'MP15':MP15, 'MP20':MP20}\n",
    "    \n",
    "    return list_N, pd.DataFrame(dict_df)\n",
    "\n",
    "def models_input(N):\n",
    "    data0 = create_dataframe(N, observations = 1000)\n",
    "    data1 = transform_df(data0)\n",
    "    \n",
    "    model_cols = ['V1', 'V2', 'V3', 'V4', 'V5', 'V6', 'V7', 'V8', 'V9', 'V10', 'MV5', 'MV10', 'MV15', 'MV20',\n",
    "                  'P1', 'P2', 'P3', 'P4', 'P5', 'P6', 'P7', 'P8', 'P9', 'P10', 'MP5', 'MP10', 'MP15', 'MP20']\n",
    "\n",
    "    X = data1[model_cols].values\n",
    "    y = data1['type'].values\n",
    "    X_train, X_test, y_train, y_test = train_test_split(X, y, test_size=0.3, shuffle=True, random_state=7)\n",
    "    \n",
    "    return X_train, X_test, y_train, y_test"
   ]
  },
  {
   "cell_type": "code",
   "execution_count": null,
   "id": "24f166f7",
   "metadata": {
    "tags": [
     "show-output",
     "show-input"
    ]
   },
   "outputs": [],
   "source": [
    "data = pd.read_csv('data_voronoi_cartoradio.csv', sep=',')\n",
    "list_N, data_test = update_df(data)\n",
    "print(list_N)\n",
    "data_test.head()"
   ]
  },
  {
   "cell_type": "markdown",
   "id": "dc851f65",
   "metadata": {},
   "source": [
    "Now that the data are read and transformed, we gather the observations by the number of points $N$ and then create the models inputs for each value of $N$ using the function *models_input(N)*. This task takes so much time to be executed that we got a time-out error on the GitHub server. That's why we prepared locally, for each value of $N$, a file containing the data created locally, and we  read the files directly.\n",
    "\n",
    "\n",
    "#### N = 31"
   ]
  },
  {
   "cell_type": "code",
   "execution_count": null,
   "id": "79117d05",
   "metadata": {
    "tags": [
     "show-output",
     "show-input"
    ]
   },
   "outputs": [],
   "source": [
    "data31 = pd.read_csv('data_31.csv', sep=',')\n",
    "X31 = data31[model_cols].values\n",
    "y31 = data31['type'].values\n",
    "X31_train, X31_test, y31_train, y31_test = train_test_split(X31, y31, test_size=0.3, shuffle=True, random_state=7)\n",
    "data_test_31 = data_test.iloc[[0, 7]]\n",
    "\n",
    "print('N = 31')\n",
    "print('------------------')\n",
    "print('Logistic Regression Results')\n",
    "Baseline_LR.fit(X31_train, y31_train)\n",
    "print(Baseline_LR.predict(data_test_31.values)[0], Baseline_LR.predict_proba(data_test_31.values)[0])\n",
    "print(Baseline_LR.predict(data_test_31.values)[1], Baseline_LR.predict_proba(data_test_31.values)[1])\n",
    "print('------------------')\n",
    "print('Random Forest Results')\n",
    "baseline_RF.fit(X31_train, y31_train)\n",
    "print(baseline_RF.predict(data_test_31.values)[0], baseline_RF.predict_proba(data_test_31.values)[0])\n",
    "print(baseline_RF.predict(data_test_31.values)[1], baseline_RF.predict_proba(data_test_31.values)[1])"
   ]
  },
  {
   "cell_type": "markdown",
   "id": "4b681fbc",
   "metadata": {},
   "source": [
    "#### N = 23"
   ]
  },
  {
   "cell_type": "code",
   "execution_count": null,
   "id": "1d7a48c0",
   "metadata": {
    "tags": [
     "show-output",
     "show-input"
    ]
   },
   "outputs": [],
   "source": [
    "data23 = pd.read_csv('data_23.csv', sep=',')\n",
    "X23 = data23[model_cols].values\n",
    "y23 = data23['type'].values\n",
    "X23_train, X23_test, y23_train, y23_test = train_test_split(X23, y23, test_size=0.3, shuffle=True, random_state=7)\n",
    "data_test_23 = data_test.iloc[[1]]\n",
    "\n",
    "print('N = 23')\n",
    "print('------------------')\n",
    "print('Logistic Regression Results')\n",
    "Baseline_LR.fit(X23_train, y23_train)\n",
    "print(Baseline_LR.predict(data_test_23.values)[0], Baseline_LR.predict_proba(data_test_23.values)[0])\n",
    "print('------------------')\n",
    "print('Random Forest Results')\n",
    "baseline_RF.fit(X23_train, y23_train)\n",
    "print(baseline_RF.predict(data_test_23.values)[0], baseline_RF.predict_proba(data_test_23.values)[0])"
   ]
  },
  {
   "cell_type": "markdown",
   "id": "eb54f4ca",
   "metadata": {},
   "source": [
    "#### N = 22"
   ]
  },
  {
   "cell_type": "code",
   "execution_count": null,
   "id": "705f70fe",
   "metadata": {
    "tags": [
     "show-output",
     "show-input"
    ]
   },
   "outputs": [],
   "source": [
    "data22 = pd.read_csv('data_22.csv', sep=',')\n",
    "X22 = data22[model_cols].values\n",
    "y22 = data22['type'].values\n",
    "X22_train, X22_test, y22_train, y22_test = train_test_split(X22, y22, test_size=0.3, shuffle=True, random_state=7)\n",
    "data_test_22 = data_test.iloc[[2, 4, 9]]\n",
    "\n",
    "print('N = 22')\n",
    "print('------------------')\n",
    "print('Logistic Regression Results')\n",
    "Baseline_LR.fit(X22_train, y22_train)\n",
    "print(Baseline_LR.predict(data_test_22.values)[0], Baseline_LR.predict_proba(data_test_22.values)[0])\n",
    "print(Baseline_LR.predict(data_test_22.values)[1], Baseline_LR.predict_proba(data_test_22.values)[1])\n",
    "print(Baseline_LR.predict(data_test_22.values)[2], Baseline_LR.predict_proba(data_test_22.values)[2])\n",
    "print('------------------')\n",
    "print('Random Forest Results')\n",
    "baseline_RF.fit(X22_train, y22_train)\n",
    "print(baseline_RF.predict(data_test_22.values)[0], baseline_RF.predict_proba(data_test_22.values)[0])\n",
    "print(baseline_RF.predict(data_test_22.values)[1], baseline_RF.predict_proba(data_test_22.values)[1])\n",
    "print(baseline_RF.predict(data_test_22.values)[2], baseline_RF.predict_proba(data_test_22.values)[2])"
   ]
  },
  {
   "cell_type": "markdown",
   "id": "a5696dee",
   "metadata": {},
   "source": [
    "#### N = 24"
   ]
  },
  {
   "cell_type": "code",
   "execution_count": null,
   "id": "57e1c085",
   "metadata": {
    "tags": [
     "show-output",
     "show-input"
    ]
   },
   "outputs": [],
   "source": [
    "data24 = pd.read_csv('data_24.csv', sep=',')\n",
    "X24 = data24[model_cols].values\n",
    "y24 = data24['type'].values\n",
    "X24_train, X24_test, y24_train, y24_test = train_test_split(X24, y24, test_size=0.3, shuffle=True, random_state=7)\n",
    "data_test_24 = data_test.iloc[[3, 6]]\n",
    "\n",
    "print('N = 24')\n",
    "print('------------------')\n",
    "print('Logistic Regression Results')\n",
    "Baseline_LR.fit(X24_train, y24_train)\n",
    "print(Baseline_LR.predict(data_test_24.values)[0], Baseline_LR.predict_proba(data_test_24.values)[0])\n",
    "print(Baseline_LR.predict(data_test_24.values)[1], Baseline_LR.predict_proba(data_test_24.values)[1])\n",
    "print('------------------')\n",
    "print('Random Forest Results')\n",
    "baseline_RF.fit(X24_train, y24_train)\n",
    "print(baseline_RF.predict(data_test_24.values)[0], baseline_RF.predict_proba(data_test_24.values)[0])\n",
    "print(baseline_RF.predict(data_test_24.values)[1], baseline_RF.predict_proba(data_test_24.values)[1])"
   ]
  },
  {
   "cell_type": "markdown",
   "id": "4afb6d2b",
   "metadata": {},
   "source": [
    "#### N = 46"
   ]
  },
  {
   "cell_type": "code",
   "execution_count": null,
   "id": "0b035519",
   "metadata": {
    "tags": [
     "show-output",
     "show-input"
    ]
   },
   "outputs": [],
   "source": [
    "data46 = pd.read_csv('data_46.csv', sep=',')\n",
    "X46 = data46[model_cols].values\n",
    "y46 = data46['type'].values\n",
    "X46_train, X46_test, y46_train, y46_test = train_test_split(X46, y46, test_size=0.3, shuffle=True, random_state=7)\n",
    "data_test_46 = data_test.iloc[[5]]\n",
    "\n",
    "print('N = 46')\n",
    "print('------------------')\n",
    "print('Logistic Regression Results')\n",
    "Baseline_LR.fit(X46_train, y46_train)\n",
    "print(Baseline_LR.predict(data_test_46.values)[0], Baseline_LR.predict_proba(data_test_46.values)[0])\n",
    "print('------------------')\n",
    "print('Random Forest Results')\n",
    "baseline_RF.fit(X46_train, y46_train)\n",
    "print(baseline_RF.predict(data_test_46.values)[0], baseline_RF.predict_proba(data_test_46.values)[0])"
   ]
  },
  {
   "cell_type": "markdown",
   "id": "7ce5d1cf",
   "metadata": {},
   "source": [
    "#### N = 29"
   ]
  },
  {
   "cell_type": "code",
   "execution_count": null,
   "id": "999d9cda",
   "metadata": {
    "tags": [
     "show-output",
     "show-input"
    ]
   },
   "outputs": [],
   "source": [
    "data29 = pd.read_csv('data_29.csv', sep=',')\n",
    "X29 = data29[model_cols].values\n",
    "y29 = data29['type'].values\n",
    "X29_train, X29_test, y29_train, y29_test = train_test_split(X29, y29, test_size=0.3, shuffle=True, random_state=7)\n",
    "data_test_29 = data_test.iloc[[8]]\n",
    "\n",
    "print('N = 29')\n",
    "print('------------------')\n",
    "print('Logistic Regression Results')\n",
    "Baseline_LR.fit(X29_train, y29_train)\n",
    "print(Baseline_LR.predict(data_test_29.values)[0], Baseline_LR.predict_proba(data_test_29.values)[0])\n",
    "print('------------------')\n",
    "print('Random Forest Results')\n",
    "baseline_RF.fit(X29_train, y29_train)\n",
    "print(baseline_RF.predict(data_test_29.values)[0], baseline_RF.predict_proba(data_test_29.values)[0])"
   ]
  },
  {
   "cell_type": "markdown",
   "id": "8598b1ba",
   "metadata": {},
   "source": [
    "We can notice that the classification results are mostly positive, which means that the majority of the samples taken from the CARTORADIO data can be decided as repulsive configurations which is consistent with our starting hypothesis. For the configurations whose results were as non-repulsive, we can say that this is due to one of the two following reasons:\n",
    "- As long as we are dealing with real data, these two samples may be a non-repulsive ones and the results are actually coherent.\n",
    "- It is sure that the accuracy of our models is very high, but we may have some classification errors, which means that even if the configuration is repulsive, the model decides that it is not.\n",
    "\n",
    "\n",
    "## Conclusion\n",
    "\n",
    "In this paper it has been shown numerically (based on the theoretical results in {cite}`goldman_palm_2010`) that Voronoi cells represent an effective means for determining the nature of repulsion of a configuration (repulsive or not), and this by creating a database of various configurations and extracting the areas and perimeters of the Voronoi cells in order to use them as input to the classification models described earlier.\n",
    "\n",
    "Once the models are trained and tested on the data created, they are tested after that on real data, which are the positions of a mobile phone base stations in PARIS. Visually, we can easily say that these configurations are repulsive, which we have confirmed for the majority of these configurations by testing them by the previously trained models.\n",
    "\n",
    "## Bibliography\n",
    "\n",
    "\n",
    "```{bibliography}\n",
    ":style: unsrt\n",
    "```"
   ]
  }
 ],
 "metadata": {
  "author": "Hamza ADRAT and Laurent DECREUSEFOND",
  "jupytext": {
   "text_representation": {
    "extension": ".md",
    "format_name": "myst"
   }
  },
  "kernelspec": {
   "display_name": "Python 3",
   "language": "python",
   "name": "python3"
  },
  "language_info": {
   "codemirror_mode": {
    "name": "ipython",
    "version": 3
   },
   "file_extension": ".py",
   "mimetype": "text/x-python",
   "name": "python",
   "nbconvert_exporter": "python",
   "pygments_lexer": "ipython3",
   "version": "3.9.15"
  },
  "source_map": [
   13,
   172,
   315,
   320,
   327,
   339,
   401,
   404,
   411,
   415,
   422,
   442,
   484,
   492,
   500,
   521,
   524,
   543,
   546,
   569,
   572,
   593,
   596,
   615,
   618,
   637
  ],
  "title": "Point process discrimination according to repulsion"
 },
 "nbformat": 4,
 "nbformat_minor": 5
}