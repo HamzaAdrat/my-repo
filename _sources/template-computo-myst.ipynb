{
 "cells": [
  {
   "cell_type": "markdown",
   "id": "a0b5d343",
   "metadata": {},
   "source": [
    "# Point process discrimination according to repulsion\n",
    "\n",
    "## Abstract\n",
    "In numerous applications, cloud of points do seem to exhibit *repulsion* in the intuitive sense that there is no local cluster as in a Poisson process. Motivated by data coming from cellular networks, we devise a classification algorithm based on the form of the Voronoi cells. We show that, in the particular set of data we are given, we can retrieve some repulsiveness between antennas, which was expected for engineering reasons.\n",
    "\n",
    "## Introduction\n",
    "In the performance analysis of cellular systems, the locations of antennas (or base stations) play a major role (see {cite}`BaccelliStochasticGeometryWireless2008`). It is usually admitted that they can be modeled by a Poisson process. But the data which can be gathered from the Web site of the French National Agency of Radio Frequencies, Cartoradio, see {cite}`ANFR`, tend to prove that this may not be the case. More precisely, if we look at the global picture of all antennas in Paris, we see features reminiscent of a Poisson process (local clusters for instance), see {numref}`paris-orange-fig`(left). However, if we look closer and finer, by specifying a region and a frequency band, we see that the antennas locations do seem to exhibit some repulsion (see {numref}`paris-orange-fig`, right picture).\n",
    "\n",
    "```{figure} /paris-orange.png\n",
    "---\n",
    "name: paris-orange-fig\n",
    "---\n",
    "Left: Antennas in Paris. Right: Antennas in one frequency  band only.\n",
    "\n",
    "```\n",
    "\n",
    "In previous papers, point processes with repulsion have been used to model such systems {cite}`Deng2014`, {cite}`Miyoshi2016`, {cite}`Gomez2015` for no reason but a mere resemblance between the pictures like the right picture in {numref}`paris-orange-fig` and those obtained by simulating a point process with repulsion. The question is then to decide, given one sample of positions of base stations in a bounded domain, whether it is more likely to be modeled by a point process with repulsion or by a *neutral* point process, i.e. where the locations could be considered as coming from independent drawings of some identically distributed random variables. As we only have a single realization,  we cannot use frequency methods. Since the observation window is finite, we cannot either resort to estimates based on stationarity or ergodicity and  we must take care from the side effects.\n",
    "\n",
    "The rationale behind our work comes from {cite}`goldman_palm_2010`. It is shown there  that the Voronoi cells of the Ginibre point process (a particular point process with repulsion, see below for the exact definition) are in some sense more regular (closer to a circle) than those of a Poisson process (see {eq}`theorem_goldman` in Theorem 1.). By simulation, this feature seem to persist for other point processes with repulsion, like Gibbs processes. It is this aspect that we use to construct our classification algorithm.\n",
    "We will simulate several configurations (repulsive and non-repulsive) with the same given  number of points $N$. For each configuration, we will compute the Voronoi diagrams and construct two vectors which will represent the input of our algorithm; an area vector containing the areas of the $10$ innermost Voronoi cells in order to avoid edge effects, plus $4$ other average areas from $20$ cells to have more information on the configuration. And a second perimeter vector which is constructed in the same way, containing the squared perimeters of the corresponding Voronoi cells.\n",
    "The choice of areas and square perimeters as aspects to our classification task is based on the *isoperimetric inequality in $\\mathbf{R}^2$ that states, for the length $P$ of a closed curve and the area $A$ of the planar region that it encloses, that\n",
    "```{math}\n",
    ":label: isoperimetric_inequality\n",
    "P^2 \\ge 4 \\pi A\n",
    "```\n",
    "and that equality holds if and only if the curve is a circle. After normalization, we test some classical ML models (logistic regression, random forest, support vector machine, XGBoost) to classify between repulsive and neutral point processes. The results are surprisingly good even though we trained our models only on Ginibre point processes to represent the whole family of point processes with repulsion.\n",
    "\n",
    "This paper is organized as follows. We first recall the theoretical notions that we will need in the rest of this paper. We will also briefly define the Papangelou intensity which is at the core of the definition of repulsion. In section 3 we show numerically, and based on two Machine Learning classification models, how the locations of antennas in Paris can be considered as repulsive configurations.\n",
    "\n",
    "This document provides a Myst template for contributions to the **Computo**\n",
    "Journal {cite}`computo`. We show how `Python` {cite}`perez2011python`, `R`, or `Julia` code can be included.\n",
    "Note that you can also add equations easily:\n",
    "\n",
    "$$\n",
    "\\sum x + y = Z\n",
    "$$\n",
    "\n",
    "You can also add equations in such a way to be able to reference them later:\n",
    "\n",
    "```{math}\n",
    ":label: math\n",
    "w_{t+1} = (1 + r_{t+1}) s(w_t) + y_{t+1}\n",
    "```\n",
    "\n",
    "See equation {eq}`math` for details.\n",
    "\n",
    "## Preliminaries\n",
    "\n",
    " A configuration on $E=\\mathbf R^2$ is a locally finite (respectively finite) subset of $E$. The space of configurations (respectively finite configurations) is denoted $\\mathfrak N$ (respectively $\\mathfrak N_{f}$). We equip $\\mathfrak N$ with the topology of vague convergence, under which it is a complete, separable, metric space. We denote by $\\mathcal B(\\mathfrak N)$ the Borelean $\\sigma$-field on $\\mathfrak N$. A locally finite (respectively finite) point process is a random variable with values in $\\mathfrak N$ (respectively $\\mathfrak N_{f}$).\n",
    "\n",
    " **Definition 1.**\n",
    " Let $\\Phi$ be a locally finite point process on $E$. Its *correlation functions* $\\rho^{(k)} \\colon \\mathfrak N_{f} \\to \\mathbb R_+$ are given for any measurable function $f \\colon \\mathfrak N_{f} \\to \\mathbb R_+ $ by:\n",
    "\n",
    "$$\n",
    "\\mathbb{E}\\left[ \\sum_{\\substack{\\alpha \\in \\mathfrak N_{f} \\\\ \\alpha \\subset \\Phi}} f(\\alpha) \\right] = \\sum_{k=1}^{+ \\infty} \\frac{1}{k!} \\int_{(E)^k} f(\\{x_1, \\dots, x_k\\}) \\rho^{(k)}(\\{x_1, \\dots, x_k\\}) \\, d x_1 \\ldots d x_k .\n",
    "$$\n",
    "\n",
    "It is however easier to work with the so-called Janossy measures, whose links with correlation functions are given in {cite}`Daley2003`.\n",
    "\n",
    "**Definition 2.**\n",
    "Let $\\Phi$ be a finite point process on $E$. Its *Janossy measure* $J$ is given for any $A \\in \\mathcal B(\\mathfrak N_f)$ by:\n",
    "\n",
    "$$\n",
    "\\mathbb{P}(\\Phi \\in A) = \\sum_{k=1}^{+ \\infty} \\frac{1}{k!} J(A^{(k)}),\n",
    "$$\n",
    "\n",
    "where, for any $k \\in \\mathbb N^*, \\; A^{(k)} = \\{ \\phi \\in A,\\; \\phi(E) = k \\}$.\n",
    "\n",
    "**Definition 3.**\n",
    "Let $\\Phi$ be a finite point process on $E$. It is said to be regular if there exist *Janossy functions* $(j^{(k)}, k\\ge 0)$ such that for any measurable $f \\, \\colon \\, \\mathfrak N_{f}\\to \\mathbb R^{+}$, we have\n",
    "\n",
    "```{math}\n",
    ":label: janossy_functions\n",
    "E[ f(\\Phi) ] =  \\sum_{n\\ge 0} \\frac{1}{n!} \\int_{E^n} f(\\{x_1,\\dots,x_n\\}) \\, j^{(n)}(\\{x_1,\\dots,x_n\\}) d x_1 \\ldots d x_n.\n",
    "```\n",
    "\n",
    "With this definition in hand, we can define the concept of repulsion , following {cite}`Georgii2005`.\n",
    "\n",
    "**Definition 4.**\n",
    "For $\\Phi$  a finite point regular process on $E$ with Janossy functions $(j^{(k)},\\, k \\ge 0)$, its Papangelou intensity $c$ is given for any $x \\in E$ and $\\phi \\in \\mathfrak N_{f}$ by:\n",
    "\n",
    "$$\n",
    "c(x, \\phi) = \\frac{j^{(k+1)}(\\{x\\}\\cup \\phi)}{j^{(k)}(\\phi)} \\, \\mathbf{1}_{\\{j^{(k)}(\\phi) \\ne 0\\} } \\text{ if } \\phi(E)=k.\n",
    "$$\n",
    "\n",
    "The quantity $c(x,\\phi)$ can be intuitively thought as the probability to have a particle at $x$ given the observation $\\phi$. Intuitively a point process shows repulsion when $\\phi \\mapsto c(x,\\phi)$ is, in some sense, decreasing:\n",
    "\n",
    "**Definition 5.**\n",
    "A point process $\\Phi$ on $E$ with a version $c$ of its Papangelou intensity is said to be *repulsive* if, for any $\\omega, \\phi \\in \\mathfrak N_{f}$ such that $\\omega \\subset \\phi$ and any $x \\in E$,\n",
    "\n",
    "$$\n",
    "c(x,\\phi) \\le c(x, \\omega).\n",
    "$$\n",
    "\n",
    "With this definition, it is not hard to see that Gibbs point processes, determinantal point processes are repulsive (see {cite}`Georgii2005`, {cite}`HoughDeterminantalprocessesindependence2006`). We will not dwell into the vast literature about determinantal point processes, we only focus on the so-called Ginibre point process. It has the interesting feature that we know its distribution when restricted to a compact ball in $E$. For reasons which will be self-evident, we identify hereafter $\\mathbb R^{2}$ and $\\mathbb C$.\n",
    "\n",
    "**Definition 6.**\n",
    "The *Ginibre point process* with intensity $\\rho = \\frac{\\lambda}{\\pi}$ (with $\\lambda > 0$) is a locally finite point process on $\\mathbb C$ that can be defined by its correlation functions:\n",
    "\n",
    "```{math}\n",
    ":label: correlation_functions_determinantal\n",
    "\\rho^{(k)}(x_1, \\dots, x_k) = \\det(K(x_i, x_j), \\; 1\\le i,j \\le k)\n",
    "```\n",
    "where $K$ is given by:\n",
    "\n",
    "$$\n",
    "K(x,y) = \\rho \\, e^{-\\frac{\\lambda}{2}(|x|^2 + |y|^2)}e^{\\lambda x \\bar{y}},\\ \\forall \\, (x,y) \\in \\mathbb C^2.\n",
    "$$\n",
    "\n",
    "When restricted to the $B(0,R)$, the Ginibre point process admits correlation functions of the form {eq}`correlation_functions_determinantal` with $K=K_R$ given by:\n",
    "\n",
    "```{math}\n",
    ":label: eq_main:1\n",
    "K_R(x,y)=\\sum_{j=1}^{+\\infty} \\frac{\\gamma(j+1,R^2)}{j!} \\phi_j(x)\\phi_j(\\bar y)\n",
    "```\n",
    "with\n",
    "\n",
    "$$\n",
    "\\phi_j(x)=\\sqrt{\\frac{\\rho}{\\gamma(j+1,R^2)}} \\left(\\sqrt{\\lambda}x\\right)^j\\, e^{-\\frac{\\lambda}{2} |x|^2},\n",
    "$$\n",
    "\n",
    "and $\\gamma(n,x)$ is the lower incomplete Gamma function.\n",
    "\n",
    "The simulation of such a point process is a delicate matter, first solved in {cite}`HoughDeterminantalprocessesindependence2006`. It remains costly because the algorithm contains complex calculations and some rejections. In order to fasten the procedure, an approximate algorithm has been given in {cite}`MR4279876` (see the bibliography therein to get the URL of the Python code).\n",
    "\n",
    "For an at most denumerable set of points $\\{x_{n}, \\, n\\ge 1\\}$, the Voronoi cells are defined as the convex sets\n",
    "\n",
    "$$\n",
    "\\mathcal{C}(x_{i})=\\{z\\in \\mathbb C,\\ |z-x_{i}|\\le |z-x_{j}|  \\text{ for all }j\\neq i\\}.\n",
    "$$\n",
    "\n",
    "When the points are drawn from a point process, we thus have a collection of random closed sets. When the process under consideration is stationary with respect to translations, it is customary to define the typical law of a Voronoi cell as the law of the cell containing the origin of $\\mathbb R^{2}$ when the point process is taken under its Palm distribution {cite}`goldman_palm_2010`, {cite}`BaccelliStochasticGeometryWireless2009`. It turns out that we know the Palm distribution of the Poisson process (which is itself) and of the Ginibre point process (the correlation functions are of the form {eq}`correlation_functions_determinantal` with $K$ being $K_{R}$ with the first term removed).\n",
    "We denote by $\\mathcal{C}_p$ (respectively $C_{G}$) the typical cell of the Voronoi tessellation associated to a stationary Poisson process in $\\mathbb C$ with intensity $\\lambda$ (respectively to the Ginibre point process of intensity $\\rho$). One of the main theorems of {cite}`goldman_palm_2010` is the following.\n",
    "\n",
    "**Theorem 1.**\n",
    "When $r \\to 0,$\n",
    "```{math}\n",
    ":label: theorem_goldman\n",
    "\\mathbb{E} \\left[ V(\\mathcal{C}_{G} \\cap B(0,r)) \\right] = \\mathbb{E} \\left[ V(\\mathcal{C}_p \\cap B(0,r)) \\right] (1 + r^2 W + \\circ(r^2))\n",
    "```\n",
    "where $W$ is a positive random variable.\n",
    "\n",
    "This theorem shows that near the germs of the cells a more important part of the area is captured in the Ginibre–Voronoi tessellation than in the Poisson–Voronoi tessellation. This is an indication that the Voronoi cells of the Ginibre point process are more circular than those given by the Poisson process. This can be corroborated by simulation as shows the {numref}`voronoi-fig`\n",
    "\n",
    "```{figure} /Voronoi.png\n",
    "---\n",
    "name: voronoi-fig\n",
    "---\n",
    "On the left, Voronoi associated to a realization of a Poisson process. On the right, Voronoi cells associated to a realization of a Ginibre point process.\n",
    "```\n",
    "\n",
    "As we know that circles saturate the isoperimetric inequality, it is sensible to consider classification algorithms based on area and squared perimeter of Voronoi cells. In order to avoid side effects, we concentrate on the innermost cells of the observation window.\n",
    "\n",
    "## Classification of CARTORADIO data\n",
    "\n",
    "The Cartoradio web site contains the locations (in GPS coordinates) and other informations about all the antennas (or base stations) in metropolitan France for any operator, any frequency band and all generation of wireless systems (2G to 5G). The capacity of an antenna depends on its power and on the traffic demand it has to serve.  Outside metropolitan areas, the antennas are relatively scarce and located along the main roads to guarantee a large surface coverage (around 30 km$^2$). Hence there is no need to  construct models for these regions.  On the contrary, in big towns, the density of base stations is much higher to handle the traffic demand: An antenna covers around half a squared kilometer. This is  where the dimensioning problem do appear. One should have a sufficient number of antennas per unit of surface to transport all the traffic, on the other hand, base stations operating in a given frequency band cannot be to close to mitigate interference. This explains the right picture of Figure {numref}`paris-orange-fig`.\n",
    "\n",
    "When it comes to assess the type of point process we should consider in this situation, we cannot consider the city as a whole: the geography (notably the Seine river in Paris, the parks, etc.), the non uniformity of demands (the traffic is heavier aroung railway stations or touristic sites,  for instance) which entails a higher density of antennas,  ruin any kind of invariance a statistician  could hope for. That means, we should restrict our expectations to local models of  the size of a district or a bit more. Since interference, which are the main annoyance to be dealt with, are a local phenomenon, working on a partial part of the whole domain is sufficient to predict the behavior and dimension a wireless network. \n",
    "\n",
    "\n",
    "### Model training\n",
    "\n",
    "Given a circular domain with $N$ points, we want to decide whether the points suffer from repulsion or not. Since the repulsion is not sensitive to scaling, we normalize the radius to $R=\\sqrt{N}$. This is due to the fact that a cloud drawn from a  Ginibre point process of intensity $1$  with $N$ occupies roughly a disk with this radius. We train our models on datas issued from drawings of Ginibre configuration and from drawings of $N$ points independently and uniformly scattered in $B(0,\\sqrt{N})$.\n",
    "\n",
    "For each of the previous samples, we compute the Voronoi diagrams and retain only the $10$ cells which are the closest to the barycenter of the configuration in order to avoid side effects. We then  extract the areas and the perimeters  of these cells. In addition to that, we compute the mean of the first $5$, $10$, $15$ and $20$ cells' areas in order to have a more global information.\n",
    "\n",
    "The final data will be a set of observations where each one contains $29$ columns described as follow:\n",
    "- For $1 \\le i \\le 10, \\; \\mathrm{V}_i$ is the area of the $i^{\\mathrm{th}}$ Voronoi cell.\n",
    "- For $1 \\le j \\le 10, \\; \\mathrm{P}_j$ is the square perimeter of the $j^{\\mathrm{th}}$ Voronoi cell.\n",
    "- For $k \\in \\{5, 10, 15, 20\\}, \\; \\mathrm{MV}_{k}$ (respectively $\\mathrm{MP}_{k}$) is the average area (respectively square perimeter) of the first $k$ Voronoi cells.\n",
    "- A binary column that represent the type of the initial configuration ($1$ for repulsive/Ginibre - $0$ for non-repulsive/Poisson).\n",
    "\n",
    "The final column will be the target variable for our classification models."
   ]
  },
  {
   "cell_type": "code",
   "execution_count": 1,
   "id": "0e8b12f2",
   "metadata": {},
   "outputs": [
    {
     "data": {
      "text/plain": [
       "[<matplotlib.lines.Line2D at 0x7fc3cc4d5190>]"
      ]
     },
     "execution_count": 1,
     "metadata": {},
     "output_type": "execute_result"
    },
    {
     "data": {
      "image/png": "[encoded data removed]",
      "text/plain": [
       "<Figure size 640x480 with 1 Axes>"
      ]
     },
     "metadata": {
      "filenames": {
       "image/png": "/home/runner/work/my-repo/my-repo/_build/jupyter_execute/template-computo-myst_1_1.png"
      }
     },
     "output_type": "display_data"
    }
   ],
   "source": [
    "import matplotlib.pyplot as plt\n",
    "import numpy as np\n",
    "\n",
    "fig, ax = plt.subplots()\n",
    "ax.plot(np.arange(10))"
   ]
  },
  {
   "cell_type": "code",
   "execution_count": 2,
   "id": "af32561a",
   "metadata": {
    "tags": [
     "show-output",
     "show-input"
    ]
   },
   "outputs": [
    {
     "name": "stdout",
     "output_type": "stream",
     "text": [
      "Importing libraries ...\n",
      "Compiling functions ...\n"
     ]
    }
   ],
   "source": [
    "import numpy as np\n",
    "import pandas as pd\n",
    "import scipy.stats\n",
    "import matplotlib.pyplot as plt\n",
    "import seaborn as sns\n",
    "from scipy.spatial import Delaunay, Voronoi, ConvexHull\n",
    "\n",
    "font = {'family': 'serif', 'color':  'black', 'weight': 'normal', 'size': 11,}\n",
    "\n",
    "# Useful functions for creating the data:\n",
    "\n",
    "def convert_complex_points(l):\n",
    "    return l.real, l.imag\n",
    "\n",
    "def convert_lists_to_points(l1, l2):\n",
    "    return np.array([l1, l2]).T\n",
    "\n",
    "def extract_Voronoi_areas(vor):  \n",
    "    areas= []\n",
    "    perim = []\n",
    "    for i in range(len(vor.filtered_regions)):\n",
    "        areas.append(round(ConvexHull(vor.vertices[vor.filtered_regions[i], :]).volume, 2))\n",
    "        perim.append(round(ConvexHull(vor.vertices[vor.filtered_regions[i], :]).area, 2))\n",
    "    return areas, list(np.around((np.array(perim))**2, 2))\n",
    "\n",
    "def in_box(towers, bounding_box):\n",
    "    return np.logical_and(np.logical_and(bounding_box[0] <= towers[:, 0], towers[:, 0] <= bounding_box[1]),\n",
    "                          np.logical_and(bounding_box[2] <= towers[:, 1], towers[:, 1] <= bounding_box[3]))\n",
    "\n",
    "\n",
    "def voronoi(towers, bounding_box, N):\n",
    "    # Select towers inside the bounding box\n",
    "    i = in_box(towers, bounding_box)\n",
    "    # Mirror points\n",
    "    points_center = towers[i, :]\n",
    "    points_left = np.copy(points_center)\n",
    "    points_left[:, 0] = bounding_box[0] - (points_left[:, 0] - bounding_box[0])\n",
    "    points_right = np.copy(points_center)\n",
    "    points_right[:, 0] = bounding_box[1] + (bounding_box[1] - points_right[:, 0])\n",
    "    points_down = np.copy(points_center)\n",
    "    points_down[:, 1] = bounding_box[2] - (points_down[:, 1] - bounding_box[2])\n",
    "    points_up = np.copy(points_center)\n",
    "    points_up[:, 1] = bounding_box[3] + (bounding_box[3] - points_up[:, 1])\n",
    "    points = np.append(points_center,\n",
    "                       np.append(np.append(points_left, points_right, axis=0),\n",
    "                                 np.append(points_down, points_up, axis=0),\n",
    "                                 axis=0),\n",
    "                       axis=0)\n",
    "    # Compute Voronoi\n",
    "    vor = Voronoi(points)\n",
    "    # Filter regions\n",
    "    # regions = []\n",
    "    # [vor.point_region[i] for i in range(N)]\n",
    "\n",
    "    vor.filtered_points = points_center\n",
    "    vor.filtered_regions = [vor.regions[vor.point_region[i]] for i in range(len(points_center))]\n",
    "    return vor\n",
    "\n",
    "def dpp_Moroz(N):\n",
    "    radius = int(np.sqrt(N)) ; precision = 2**-53 ; error = False ; quiet=True ; output=None \n",
    "    args = [radius, N, kernels['ginibre'], precision, error, quiet, output]\n",
    "    \n",
    "    moroz_dpp = sample(*args)\n",
    "    X_dpp_Mz, Y_dpp_Mz = convert_complex_points(moroz_dpp)\n",
    "    X_dpp_Mz = X_dpp_Mz*((np.sqrt(N))/radius) ; Y_dpp_Mz = Y_dpp_Mz*((np.sqrt(N))/radius)\n",
    "    dpp_Mz_points = convert_lists_to_points(X_dpp_Mz, Y_dpp_Mz)\n",
    "    \n",
    "    indices = np.argsort((dpp_Mz_points[:,0])**2 + ((dpp_Mz_points[:,1])**2))\n",
    "    dpp_Mz_points = dpp_Mz_points[indices]\n",
    "    \n",
    "    dpp_Mz_vor = voronoi(dpp_Mz_points, (-np.sqrt(N)-.1, np.sqrt(N)+.1, -np.sqrt(N)-.1, np.sqrt(N)+.1), len(dpp_Mz_points))\n",
    "    Voronoi_areas, Voronoi_perim = extract_Voronoi_areas(dpp_Mz_vor)\n",
    "    \n",
    "    return [Voronoi_areas, Voronoi_perim, 1]\n",
    "\n",
    "def random_process(N):\n",
    "    radius = np.sqrt(N)\n",
    "    alpha = 2*np.pi*scipy.stats.uniform.rvs(0,1,N)\n",
    "    r = radius*np.sqrt(scipy.stats.uniform.rvs(0,1,N))\n",
    "    \n",
    "    X_rand, Y_rand = r*np.cos(alpha), r*np.sin(alpha)\n",
    "    rand_points = convert_lists_to_points(X_rand, Y_rand)\n",
    "    \n",
    "    indices = np.argsort((rand_points[:,0])**2 + ((rand_points[:,1])**2))\n",
    "    rand_points = rand_points[indices]\n",
    "    \n",
    "    rand_vor = voronoi(rand_points, (-radius -.1, radius +.1, -radius -.1, radius +.1), len(rand_points))\n",
    "    Voronoi_areas, Voronoi_perim = extract_Voronoi_areas(rand_vor)\n",
    "    \n",
    "    return [Voronoi_areas, Voronoi_perim, 0]\n",
    "\n",
    "def create_dataframe(N, observations):\n",
    "    list_df = []\n",
    "    for i in range(observations):\n",
    "        list_df.append(dpp_Moroz(N))\n",
    "        list_df.append(random_process(N))\n",
    "    df = pd.DataFrame(list_df, columns =['Voronoi_areas', 'Voronoi_perim', 'Type'])\n",
    "    return df\n",
    "\n",
    "def normalize(vec):\n",
    "    vec = np.array(vec)\n",
    "    m, e = np.mean(vec), np.sqrt(np.var(vec))\n",
    "    return (vec - m)/e\n",
    "\n",
    "def compute_mean(l, n):\n",
    "    if n <= len(l):\n",
    "        new_l = np.array(list(list(zip(*l))[:n])).T\n",
    "    else:\n",
    "        new_l = np.array(list(list(zip(*l))[:len(l)])).T\n",
    "\n",
    "    return np.mean(new_l, axis=1)\n",
    "\n",
    "def single_area(l, k):\n",
    "    l = np.array(l)\n",
    "    return l[:,k]\n",
    "\n",
    "def transform_df(odf):\n",
    "    \n",
    "    list_V = odf['Voronoi_areas'].tolist()\n",
    "    list_P = odf['Voronoi_perim'].tolist()\n",
    "    \n",
    "    [MV5, MV10, MV15, MV20] = [compute_mean(list_V, n) for n in [5, 10, 15, 20]]\n",
    "    [MP5, MP10, MP15, MP20] = [compute_mean(list_P, n) for n in [5, 10, 15, 20]]\n",
    "    \n",
    "    normalized_V10 = [normalize(list_V[i][:10]) for i in range(odf.shape[0])]\n",
    "    normalized_P10 = [normalize(list_P[i][:10]) for i in range(odf.shape[0])]\n",
    "    \n",
    "    [V1, V2, V3, V4, V5, V6, V7, V8, V9, V10] = [single_area(normalized_V10, k) for k in range(10)]\n",
    "    [P1, P2, P3, P4, P5, P6, P7, P8, P9, P10] = [single_area(normalized_P10, k) for k in range(10)]\n",
    "    \n",
    "    dict_df = {'V1':V1, 'V2':V2, 'V3':V3, 'V4':V4, 'V5':V5, 'V6':V6, 'V7':V7, 'V8':V8, 'V9':V9, 'V10':V10,\n",
    "               'MV5':MV5, 'MV10':MV10, 'MV15':MV15, 'MV20':MV20,\n",
    "               'P1':P1, 'P2':P2, 'P3':P3, 'P4':P4, 'P5':P5, 'P6':P6, 'P7':P7, 'P8':P8, 'P9':P9, 'P10':P10,\n",
    "               'MP5':MP5, 'MP10':MP10, 'MP15':MP15, 'MP20':MP20,\n",
    "               'type': odf['Type']}\n",
    "    \n",
    "    return pd.DataFrame(dict_df)\n",
    "\n",
    "%run -i Moroz_dpp.py"
   ]
  },
  {
   "cell_type": "markdown",
   "id": "34772bde",
   "metadata": {},
   "source": [
    "Here is an example of the data created. We generate a data of $2000$ observations of configurations ($1000$ repulsive and $1000$ non repulsive) of $N = 24$ points."
   ]
  },
  {
   "cell_type": "code",
   "execution_count": 3,
   "id": "9dc86585",
   "metadata": {
    "tags": [
     "show-output",
     "show-input"
    ]
   },
   "outputs": [
    {
     "data": {
      "text/html": [
       "<div>\n",
       "<style scoped>\n",
       "    .dataframe tbody tr th:only-of-type {\n",
       "        vertical-align: middle;\n",
       "    }\n",
       "\n",
       "    .dataframe tbody tr th {\n",
       "        vertical-align: top;\n",
       "    }\n",
       "\n",
       "    .dataframe thead th {\n",
       "        text-align: right;\n",
       "    }\n",
       "</style>\n",
       "<table border=\"1\" class=\"dataframe\">\n",
       "  <thead>\n",
       "    <tr style=\"text-align: right;\">\n",
       "      <th></th>\n",
       "      <th>V1</th>\n",
       "      <th>V2</th>\n",
       "      <th>V3</th>\n",
       "      <th>V4</th>\n",
       "      <th>V5</th>\n",
       "      <th>V6</th>\n",
       "      <th>V7</th>\n",
       "      <th>V8</th>\n",
       "      <th>V9</th>\n",
       "      <th>V10</th>\n",
       "      <th>...</th>\n",
       "      <th>P6</th>\n",
       "      <th>P7</th>\n",
       "      <th>P8</th>\n",
       "      <th>P9</th>\n",
       "      <th>P10</th>\n",
       "      <th>MP5</th>\n",
       "      <th>MP10</th>\n",
       "      <th>MP15</th>\n",
       "      <th>MP20</th>\n",
       "      <th>type</th>\n",
       "    </tr>\n",
       "  </thead>\n",
       "  <tbody>\n",
       "    <tr>\n",
       "      <th>0</th>\n",
       "      <td>1.014804</td>\n",
       "      <td>-0.699392</td>\n",
       "      <td>-0.438834</td>\n",
       "      <td>-1.412497</td>\n",
       "      <td>0.164563</td>\n",
       "      <td>0.754246</td>\n",
       "      <td>-1.055944</td>\n",
       "      <td>1.385070</td>\n",
       "      <td>1.289075</td>\n",
       "      <td>-1.001090</td>\n",
       "      <td>...</td>\n",
       "      <td>0.208935</td>\n",
       "      <td>0.108280</td>\n",
       "      <td>2.042070</td>\n",
       "      <td>0.859631</td>\n",
       "      <td>-1.051790</td>\n",
       "      <td>61.582</td>\n",
       "      <td>65.845</td>\n",
       "      <td>70.315333</td>\n",
       "      <td>74.9405</td>\n",
       "      <td>1</td>\n",
       "    </tr>\n",
       "    <tr>\n",
       "      <th>1</th>\n",
       "      <td>-0.866304</td>\n",
       "      <td>-0.783156</td>\n",
       "      <td>-0.715597</td>\n",
       "      <td>-0.071196</td>\n",
       "      <td>2.371293</td>\n",
       "      <td>0.063920</td>\n",
       "      <td>1.274772</td>\n",
       "      <td>-0.793549</td>\n",
       "      <td>-0.486939</td>\n",
       "      <td>0.006756</td>\n",
       "      <td>...</td>\n",
       "      <td>0.690735</td>\n",
       "      <td>1.956803</td>\n",
       "      <td>-0.854342</td>\n",
       "      <td>-0.580598</td>\n",
       "      <td>-0.299709</td>\n",
       "      <td>49.790</td>\n",
       "      <td>59.501</td>\n",
       "      <td>82.639333</td>\n",
       "      <td>84.8775</td>\n",
       "      <td>0</td>\n",
       "    </tr>\n",
       "    <tr>\n",
       "      <th>2</th>\n",
       "      <td>-0.365101</td>\n",
       "      <td>-0.182551</td>\n",
       "      <td>0.200806</td>\n",
       "      <td>0.535482</td>\n",
       "      <td>-0.651097</td>\n",
       "      <td>-0.882328</td>\n",
       "      <td>-0.718032</td>\n",
       "      <td>-0.870157</td>\n",
       "      <td>2.634813</td>\n",
       "      <td>0.298166</td>\n",
       "      <td>...</td>\n",
       "      <td>-0.938682</td>\n",
       "      <td>-0.908108</td>\n",
       "      <td>-0.794594</td>\n",
       "      <td>2.327202</td>\n",
       "      <td>1.175901</td>\n",
       "      <td>73.356</td>\n",
       "      <td>78.260</td>\n",
       "      <td>79.720000</td>\n",
       "      <td>79.6100</td>\n",
       "      <td>1</td>\n",
       "    </tr>\n",
       "    <tr>\n",
       "      <th>3</th>\n",
       "      <td>0.246434</td>\n",
       "      <td>1.659553</td>\n",
       "      <td>-0.847871</td>\n",
       "      <td>0.418766</td>\n",
       "      <td>-0.098229</td>\n",
       "      <td>0.565248</td>\n",
       "      <td>0.737579</td>\n",
       "      <td>-1.519965</td>\n",
       "      <td>0.522165</td>\n",
       "      <td>-1.683680</td>\n",
       "      <td>...</td>\n",
       "      <td>0.141295</td>\n",
       "      <td>0.943831</td>\n",
       "      <td>-2.122224</td>\n",
       "      <td>1.221954</td>\n",
       "      <td>-0.540050</td>\n",
       "      <td>81.002</td>\n",
       "      <td>79.730</td>\n",
       "      <td>85.300000</td>\n",
       "      <td>79.7050</td>\n",
       "      <td>0</td>\n",
       "    </tr>\n",
       "    <tr>\n",
       "      <th>4</th>\n",
       "      <td>-0.464129</td>\n",
       "      <td>0.930340</td>\n",
       "      <td>-0.682666</td>\n",
       "      <td>0.597332</td>\n",
       "      <td>1.398632</td>\n",
       "      <td>0.493267</td>\n",
       "      <td>-1.463152</td>\n",
       "      <td>1.252941</td>\n",
       "      <td>-1.202990</td>\n",
       "      <td>-0.859576</td>\n",
       "      <td>...</td>\n",
       "      <td>0.178776</td>\n",
       "      <td>-1.607657</td>\n",
       "      <td>1.465355</td>\n",
       "      <td>-0.543385</td>\n",
       "      <td>-0.624586</td>\n",
       "      <td>69.934</td>\n",
       "      <td>66.534</td>\n",
       "      <td>72.861333</td>\n",
       "      <td>69.9665</td>\n",
       "      <td>1</td>\n",
       "    </tr>\n",
       "  </tbody>\n",
       "</table>\n",
       "<p>5 rows × 29 columns</p>\n",
       "</div>"
      ],
      "text/plain": [
       "         V1        V2        V3        V4        V5        V6        V7  \\\n",
       "0  1.014804 -0.699392 -0.438834 -1.412497  0.164563  0.754246 -1.055944   \n",
       "1 -0.866304 -0.783156 -0.715597 -0.071196  2.371293  0.063920  1.274772   \n",
       "2 -0.365101 -0.182551  0.200806  0.535482 -0.651097 -0.882328 -0.718032   \n",
       "3  0.246434  1.659553 -0.847871  0.418766 -0.098229  0.565248  0.737579   \n",
       "4 -0.464129  0.930340 -0.682666  0.597332  1.398632  0.493267 -1.463152   \n",
       "\n",
       "         V8        V9       V10  ...        P6        P7        P8        P9  \\\n",
       "0  1.385070  1.289075 -1.001090  ...  0.208935  0.108280  2.042070  0.859631   \n",
       "1 -0.793549 -0.486939  0.006756  ...  0.690735  1.956803 -0.854342 -0.580598   \n",
       "2 -0.870157  2.634813  0.298166  ... -0.938682 -0.908108 -0.794594  2.327202   \n",
       "3 -1.519965  0.522165 -1.683680  ...  0.141295  0.943831 -2.122224  1.221954   \n",
       "4  1.252941 -1.202990 -0.859576  ...  0.178776 -1.607657  1.465355 -0.543385   \n",
       "\n",
       "        P10     MP5    MP10       MP15     MP20  type  \n",
       "0 -1.051790  61.582  65.845  70.315333  74.9405     1  \n",
       "1 -0.299709  49.790  59.501  82.639333  84.8775     0  \n",
       "2  1.175901  73.356  78.260  79.720000  79.6100     1  \n",
       "3 -0.540050  81.002  79.730  85.300000  79.7050     0  \n",
       "4 -0.624586  69.934  66.534  72.861333  69.9665     1  \n",
       "\n",
       "[5 rows x 29 columns]"
      ]
     },
     "execution_count": 3,
     "metadata": {},
     "output_type": "execute_result"
    }
   ],
   "source": [
    "ddf = create_dataframe(24, 1000)\n",
    "ddf_transformed = transform_df(ddf)\n",
    "ddf_transformed.head()"
   ]
  },
  {
   "cell_type": "markdown",
   "id": "22e53e11",
   "metadata": {},
   "source": [
    "### Classification models\n",
    "\n",
    "In this section, we will train and test some Machine Learning models using the data we've created in the previous section. For a start we will select all the columns as inputs to our models (this can lead to false predictions, especially if some columns share the same information). And also we will only use baseline models, i.e. all the hyperparameters' values are taken as defaults, (a grid search can be used later in order to select the optimal hyperparameters for each model).\n",
    "\n",
    "The models we use in this paper are:\n",
    "- Logistic regression, which is a classification algorithm, used when the value of the target variable is categorical in nature. Logistic regression is most commonly used when the data in question has binary output, so when it belongs to one class or another, or is either a $0$ or $1$.\n",
    "- Random forest, a meta estimator that fits a number of decision tree classifiers on various sub-samples of the dataset and uses averaging to improve the accuracy and control over-fitting.\n",
    "\n",
    "Two other classification models (Support Vector Machine and XGBoost) have been tested but not introduced in this paper since they gave similar results to the models prensent in this paper."
   ]
  },
  {
   "cell_type": "code",
   "execution_count": 4,
   "id": "e1363c84",
   "metadata": {
    "tags": [
     "show-output",
     "show-input"
    ]
   },
   "outputs": [],
   "source": [
    "from sklearn.pipeline import make_pipeline\n",
    "from sklearn.preprocessing import StandardScaler\n",
    "\n",
    "from sklearn.linear_model import LogisticRegression\n",
    "from sklearn.ensemble import RandomForestClassifier\n",
    "\n",
    "from sklearn.model_selection import train_test_split\n",
    "from sklearn.metrics import confusion_matrix, classification_report, roc_curve, roc_auc_score\n",
    "\n",
    "# Useful function for evaluating our models:\n",
    "\n",
    "def model_Evaluate(model, x_tt, y_tt):\n",
    "    y_pred = model.predict(x_tt)\n",
    "    print(classification_report(y_tt, y_pred))\n",
    "    \n",
    "    cf_matrix = confusion_matrix(y_tt, y_pred)\n",
    "    categories  = ['Negative','Positive']\n",
    "    group_names = ['True Neg','False Pos', 'False Neg','True Pos']\n",
    "    group_percentages = ['{0:.2%}'.format(value) for value in cf_matrix.flatten() / np.sum(cf_matrix)]\n",
    "\n",
    "    labels = [f'{v1}\\n{v2}' for v1, v2 in zip(group_names,group_percentages)]\n",
    "    labels = np.asarray(labels).reshape(2,2)\n",
    "    \n",
    "    logit_roc_auc = roc_auc_score(y_tt, model.predict(x_tt))\n",
    "    fpr, tpr, thresholds = roc_curve(y_tt, model.predict_proba(x_tt)[:,1])\n",
    "    \n",
    "    fig = plt.figure(figsize=(12, 5))\n",
    "    # Adds subplot on position 1\n",
    "    ax = fig.add_subplot(121)\n",
    "    sns.heatmap(cf_matrix, annot = labels, cmap = 'Blues',fmt = '', xticklabels = categories, yticklabels = categories)\n",
    "    ax.set_title(\"Confusion Matrix\", fontdict = {'size':18}, pad = 20)\n",
    "    ax.set(xlabel='Predicted values', ylabel='Actual values')\n",
    "\n",
    "    # Adds subplot on position 2\n",
    "    ax = fig.add_subplot(122)\n",
    "    ax.plot(fpr, tpr, label='area = %0.2f' % logit_roc_auc)\n",
    "    ax.plot([0, 1], [0, 1],'r--', label='Standard')\n",
    "    ax.set_xlim([-0.02, 1.02])\n",
    "    ax.set_ylim([0.0, 1.05])\n",
    "    \n",
    "    thresholds_rounded = [round(num, 1) for num in thresholds]\n",
    "    for threshold in [0.1, 0.2, 0.3, 0.4, 0.5, 0.6, 0.7, 0.8, 0.9]:\n",
    "        if threshold in thresholds_rounded:\n",
    "            index = thresholds_rounded.index(threshold)\n",
    "            ax.annotate(threshold, (fpr[index], tpr[index]))\n",
    "\n",
    "    ax.set_title('Receiver Operating Characteristic (ROC)')\n",
    "    ax.set(xlabel='False Positive Rate (1-specificity)', ylabel='True Positive Rate (sensitivity)')\n",
    "    ax.legend(loc=\"lower right\")\n",
    "    ax.grid()\n",
    "    plt.show()\n",
    "\n",
    "\n",
    "model_cols = ['V1', 'V2', 'V3', 'V4', 'V5', 'V6', 'V7', 'V8', 'V9', 'V10', 'MV5', 'MV10', 'MV15', 'MV20',\n",
    "             'P1', 'P2', 'P3', 'P4', 'P5', 'P6', 'P7', 'P8', 'P9', 'P10', 'MP5', 'MP10', 'MP15', 'MP20']\n",
    "X = ddf_transformed[model_cols].values\n",
    "y = ddf_transformed['type'].values\n",
    "X_train, X_test, y_train, y_test = train_test_split(X, y, test_size=0.3, shuffle= True, random_state=7)"
   ]
  },
  {
   "cell_type": "markdown",
   "id": "e124349f",
   "metadata": {},
   "source": [
    "Here are the results of the logistic regression"
   ]
  },
  {
   "cell_type": "code",
   "execution_count": 5,
   "id": "501ede43",
   "metadata": {
    "tags": [
     "show-output",
     "show-input"
    ]
   },
   "outputs": [
    {
     "name": "stdout",
     "output_type": "stream",
     "text": [
      "              precision    recall  f1-score   support\n",
      "\n",
      "           0       0.89      0.85      0.87       298\n",
      "           1       0.86      0.90      0.88       302\n",
      "\n",
      "    accuracy                           0.87       600\n",
      "   macro avg       0.87      0.87      0.87       600\n",
      "weighted avg       0.87      0.87      0.87       600\n",
      "\n"
     ]
    },
    {
     "data": {
      "image/png": "[encoded data removed]",
      "text/plain": [
       "<Figure size 1200x500 with 3 Axes>"
      ]
     },
     "metadata": {
      "filenames": {
       "image/png": "/home/runner/work/my-repo/my-repo/_build/jupyter_execute/template-computo-myst_8_1.png"
      }
     },
     "output_type": "display_data"
    }
   ],
   "source": [
    "Baseline_LR = make_pipeline(StandardScaler(), LogisticRegression())\n",
    "Baseline_LR.fit(X_train, y_train)\n",
    "model_Evaluate(Baseline_LR, X_test, y_test)"
   ]
  },
  {
   "cell_type": "markdown",
   "id": "609fc05b",
   "metadata": {},
   "source": [
    "Here are the results of the random forest"
   ]
  },
  {
   "cell_type": "code",
   "execution_count": 6,
   "id": "a55f9e5b",
   "metadata": {
    "tags": [
     "show-output",
     "show-input"
    ]
   },
   "outputs": [
    {
     "name": "stdout",
     "output_type": "stream",
     "text": [
      "              precision    recall  f1-score   support\n",
      "\n",
      "           0       0.94      0.90      0.92       298\n",
      "           1       0.91      0.95      0.93       302\n",
      "\n",
      "    accuracy                           0.92       600\n",
      "   macro avg       0.92      0.92      0.92       600\n",
      "weighted avg       0.92      0.92      0.92       600\n",
      "\n"
     ]
    },
    {
     "data": {
      "image/png": "[encoded data removed]",
      "text/plain": [
       "<Figure size 1200x500 with 3 Axes>"
      ]
     },
     "metadata": {
      "filenames": {
       "image/png": "/home/runner/work/my-repo/my-repo/_build/jupyter_execute/template-computo-myst_10_1.png"
      }
     },
     "output_type": "display_data"
    }
   ],
   "source": [
    "baseline_RF = RandomForestClassifier()\n",
    "baseline_RF.fit(X_train,y_train)\n",
    "model_Evaluate(baseline_RF, X_test, y_test)"
   ]
  },
  {
   "cell_type": "markdown",
   "id": "c6299f65",
   "metadata": {},
   "source": [
    "### Testing on CARTORADIO data\n",
    "\n",
    "CARTORADIO data is a set of configurations of some mobile phone base stations in Paris. The goal is to decide from the classification models already used, the repulsion of these configurations.\n",
    "\n",
    "The initial data (positions of the mobile phone antennas) covered a large area of the city of Paris (see {numref}`cartoradio-fig`(right)), while the prediction models were trained on simulated data on small circles compared with the initial CARTORADIO data.\n",
    "In addition to that, we are working with a real dataset, so we often encounter the problem of heterogeneity between the different configurations since they depend on the structure of the space in which the antennas are placed.\n",
    "\n",
    "So to remedy this problem, we will extract from each configuration a representative sample similar to the type of training data so that the tests make sense. {numref}`cartoradio-fig` (left) shows a sample extracted from a given configuration.\n",
    "\n",
    "```{figure} /cartoradio.png\n",
    "---\n",
    "name: cartoradio-fig\n",
    "---\n",
    "On the left, Initial cartoradio configuration. On the right, Sample extracted from it and scaled.\n",
    "```\n",
    "\n",
    "In the following, we will read the CARTORADIA directly from the \"data_cartoradio.csv\" file."
   ]
  },
  {
   "cell_type": "code",
   "execution_count": 7,
   "id": "c15f3eed",
   "metadata": {},
   "outputs": [],
   "source": [
    "# Useful functions to transform the CARTORADIO data\n",
    "\n",
    "def update_df(odf): \n",
    "    converted_V = odf['Voronoi_areas'].str[1:-1].str.split(',').tolist()\n",
    "    converted_P = odf['Voronoi_perim'].str[1:-1].str.split(',').tolist()\n",
    "    \n",
    "    list_V = [(np.float_(converted_V[i])).tolist() for i in range(odf.shape[0])]\n",
    "    list_P = [(np.float_(converted_P[i])).tolist() for i in range(odf.shape[0])]\n",
    "    \n",
    "    list_N = [len(list_V[i]) for i in range(odf.shape[0])]\n",
    "    \n",
    "    [MV5, MV10, MV15, MV20] = [compute_mean(list_V, n) for n in [5, 10, 15, 20]]\n",
    "    [MP5, MP10, MP15, MP20] = [compute_mean(list_P, n) for n in [5, 10, 15, 20]]\n",
    "    \n",
    "    normalized_V10 = [normalize(list_V[i][:10]) for i in range(odf.shape[0])]\n",
    "    normalized_P10 = [normalize(list_P[i][:10]) for i in range(odf.shape[0])]\n",
    "    \n",
    "    [V1, V2, V3, V4, V5, V6, V7, V8, V9, V10] = [single_area(normalized_V10, k) for k in range(10)]\n",
    "    [P1, P2, P3, P4, P5, P6, P7, P8, P9, P10] = [single_area(normalized_P10, k) for k in range(10)]\n",
    "    \n",
    "    dict_df = {'V1':V1, 'V2':V2, 'V3':V3, 'V4':V4, 'V5':V5, 'V6':V6, 'V7':V7, 'V8':V8, 'V9':V9, 'V10':V10,\n",
    "               'MV5':MV5, 'MV10':MV10, 'MV15':MV15, 'MV20':MV20,\n",
    "               'P1':P1, 'P2':P2, 'P3':P3, 'P4':P4, 'P5':P5, 'P6':P6, 'P7':P7, 'P8':P8, 'P9':P9, 'P10':P10,\n",
    "               'MP5':MP5, 'MP10':MP10, 'MP15':MP15, 'MP20':MP20}\n",
    "    \n",
    "    return list_N, pd.DataFrame(dict_df)\n",
    "\n",
    "def models_input(N):\n",
    "    data0 = create_dataframe(N, observations = 1000)\n",
    "    data1 = transform_df(data0)\n",
    "    \n",
    "    model_cols = ['V1', 'V2', 'V3', 'V4', 'V5', 'V6', 'V7', 'V8', 'V9', 'V10', 'MV5', 'MV10', 'MV15', 'MV20',\n",
    "                  'P1', 'P2', 'P3', 'P4', 'P5', 'P6', 'P7', 'P8', 'P9', 'P10', 'MP5', 'MP10', 'MP15', 'MP20']\n",
    "\n",
    "    X = data1[model_cols].values\n",
    "    y = data1['type'].values\n",
    "    X_train, X_test, y_train, y_test = train_test_split(X, y, test_size=0.3, shuffle=True, random_state=7)\n",
    "    \n",
    "    return X_train, X_test, y_train, y_test"
   ]
  },
  {
   "cell_type": "code",
   "execution_count": 8,
   "id": "b7ddecff",
   "metadata": {
    "tags": [
     "show-output",
     "show-input"
    ]
   },
   "outputs": [
    {
     "name": "stdout",
     "output_type": "stream",
     "text": [
      "[31, 23, 22, 24, 22, 46, 24, 31, 29, 22]\n"
     ]
    },
    {
     "data": {
      "text/html": [
       "<div>\n",
       "<style scoped>\n",
       "    .dataframe tbody tr th:only-of-type {\n",
       "        vertical-align: middle;\n",
       "    }\n",
       "\n",
       "    .dataframe tbody tr th {\n",
       "        vertical-align: top;\n",
       "    }\n",
       "\n",
       "    .dataframe thead th {\n",
       "        text-align: right;\n",
       "    }\n",
       "</style>\n",
       "<table border=\"1\" class=\"dataframe\">\n",
       "  <thead>\n",
       "    <tr style=\"text-align: right;\">\n",
       "      <th></th>\n",
       "      <th>V1</th>\n",
       "      <th>V2</th>\n",
       "      <th>V3</th>\n",
       "      <th>V4</th>\n",
       "      <th>V5</th>\n",
       "      <th>V6</th>\n",
       "      <th>V7</th>\n",
       "      <th>V8</th>\n",
       "      <th>V9</th>\n",
       "      <th>V10</th>\n",
       "      <th>...</th>\n",
       "      <th>P5</th>\n",
       "      <th>P6</th>\n",
       "      <th>P7</th>\n",
       "      <th>P8</th>\n",
       "      <th>P9</th>\n",
       "      <th>P10</th>\n",
       "      <th>MP5</th>\n",
       "      <th>MP10</th>\n",
       "      <th>MP15</th>\n",
       "      <th>MP20</th>\n",
       "    </tr>\n",
       "  </thead>\n",
       "  <tbody>\n",
       "    <tr>\n",
       "      <th>0</th>\n",
       "      <td>1.058615</td>\n",
       "      <td>-1.059609</td>\n",
       "      <td>-0.322889</td>\n",
       "      <td>-0.837226</td>\n",
       "      <td>-0.608632</td>\n",
       "      <td>-0.546514</td>\n",
       "      <td>0.057273</td>\n",
       "      <td>-0.332828</td>\n",
       "      <td>0.110694</td>\n",
       "      <td>2.481117</td>\n",
       "      <td>...</td>\n",
       "      <td>-0.313571</td>\n",
       "      <td>-0.390272</td>\n",
       "      <td>-0.272901</td>\n",
       "      <td>-0.510596</td>\n",
       "      <td>0.075056</td>\n",
       "      <td>2.841118</td>\n",
       "      <td>54.9306</td>\n",
       "      <td>60.7143</td>\n",
       "      <td>60.7143</td>\n",
       "      <td>60.7143</td>\n",
       "    </tr>\n",
       "    <tr>\n",
       "      <th>1</th>\n",
       "      <td>-0.297282</td>\n",
       "      <td>-0.299891</td>\n",
       "      <td>-0.052026</td>\n",
       "      <td>-0.948517</td>\n",
       "      <td>-0.221096</td>\n",
       "      <td>-0.493487</td>\n",
       "      <td>-0.628118</td>\n",
       "      <td>2.228860</td>\n",
       "      <td>1.582844</td>\n",
       "      <td>-0.871287</td>\n",
       "      <td>...</td>\n",
       "      <td>-0.219659</td>\n",
       "      <td>-0.564626</td>\n",
       "      <td>-0.639599</td>\n",
       "      <td>2.209631</td>\n",
       "      <td>1.647841</td>\n",
       "      <td>-0.900765</td>\n",
       "      <td>57.9418</td>\n",
       "      <td>69.9330</td>\n",
       "      <td>69.9330</td>\n",
       "      <td>69.9330</td>\n",
       "    </tr>\n",
       "    <tr>\n",
       "      <th>2</th>\n",
       "      <td>-0.315399</td>\n",
       "      <td>-0.524015</td>\n",
       "      <td>-1.064477</td>\n",
       "      <td>-0.154813</td>\n",
       "      <td>-0.756404</td>\n",
       "      <td>-0.778721</td>\n",
       "      <td>-0.056812</td>\n",
       "      <td>1.792111</td>\n",
       "      <td>2.012857</td>\n",
       "      <td>-0.154328</td>\n",
       "      <td>...</td>\n",
       "      <td>-0.808625</td>\n",
       "      <td>-0.304950</td>\n",
       "      <td>-0.290136</td>\n",
       "      <td>2.051852</td>\n",
       "      <td>1.790089</td>\n",
       "      <td>0.068707</td>\n",
       "      <td>53.5506</td>\n",
       "      <td>80.4082</td>\n",
       "      <td>80.4082</td>\n",
       "      <td>80.4082</td>\n",
       "    </tr>\n",
       "    <tr>\n",
       "      <th>3</th>\n",
       "      <td>-0.035014</td>\n",
       "      <td>-0.192421</td>\n",
       "      <td>-0.538841</td>\n",
       "      <td>0.176928</td>\n",
       "      <td>-0.759460</td>\n",
       "      <td>-0.958388</td>\n",
       "      <td>-0.734051</td>\n",
       "      <td>-0.177548</td>\n",
       "      <td>2.703503</td>\n",
       "      <td>0.515292</td>\n",
       "      <td>...</td>\n",
       "      <td>-0.827160</td>\n",
       "      <td>-0.875832</td>\n",
       "      <td>-0.594335</td>\n",
       "      <td>0.029275</td>\n",
       "      <td>2.580715</td>\n",
       "      <td>1.019987</td>\n",
       "      <td>61.9572</td>\n",
       "      <td>78.8108</td>\n",
       "      <td>78.8108</td>\n",
       "      <td>78.8108</td>\n",
       "    </tr>\n",
       "    <tr>\n",
       "      <th>4</th>\n",
       "      <td>1.320579</td>\n",
       "      <td>-0.068657</td>\n",
       "      <td>0.890645</td>\n",
       "      <td>-1.103718</td>\n",
       "      <td>-1.511872</td>\n",
       "      <td>1.745779</td>\n",
       "      <td>0.231539</td>\n",
       "      <td>-0.269419</td>\n",
       "      <td>-0.711664</td>\n",
       "      <td>-0.523213</td>\n",
       "      <td>...</td>\n",
       "      <td>-1.648871</td>\n",
       "      <td>2.167209</td>\n",
       "      <td>0.013477</td>\n",
       "      <td>-0.391777</td>\n",
       "      <td>-0.368717</td>\n",
       "      <td>-0.440355</td>\n",
       "      <td>68.3258</td>\n",
       "      <td>71.4361</td>\n",
       "      <td>71.4361</td>\n",
       "      <td>71.4361</td>\n",
       "    </tr>\n",
       "  </tbody>\n",
       "</table>\n",
       "<p>5 rows × 28 columns</p>\n",
       "</div>"
      ],
      "text/plain": [
       "         V1        V2        V3        V4        V5        V6        V7  \\\n",
       "0  1.058615 -1.059609 -0.322889 -0.837226 -0.608632 -0.546514  0.057273   \n",
       "1 -0.297282 -0.299891 -0.052026 -0.948517 -0.221096 -0.493487 -0.628118   \n",
       "2 -0.315399 -0.524015 -1.064477 -0.154813 -0.756404 -0.778721 -0.056812   \n",
       "3 -0.035014 -0.192421 -0.538841  0.176928 -0.759460 -0.958388 -0.734051   \n",
       "4  1.320579 -0.068657  0.890645 -1.103718 -1.511872  1.745779  0.231539   \n",
       "\n",
       "         V8        V9       V10  ...        P5        P6        P7        P8  \\\n",
       "0 -0.332828  0.110694  2.481117  ... -0.313571 -0.390272 -0.272901 -0.510596   \n",
       "1  2.228860  1.582844 -0.871287  ... -0.219659 -0.564626 -0.639599  2.209631   \n",
       "2  1.792111  2.012857 -0.154328  ... -0.808625 -0.304950 -0.290136  2.051852   \n",
       "3 -0.177548  2.703503  0.515292  ... -0.827160 -0.875832 -0.594335  0.029275   \n",
       "4 -0.269419 -0.711664 -0.523213  ... -1.648871  2.167209  0.013477 -0.391777   \n",
       "\n",
       "         P9       P10      MP5     MP10     MP15     MP20  \n",
       "0  0.075056  2.841118  54.9306  60.7143  60.7143  60.7143  \n",
       "1  1.647841 -0.900765  57.9418  69.9330  69.9330  69.9330  \n",
       "2  1.790089  0.068707  53.5506  80.4082  80.4082  80.4082  \n",
       "3  2.580715  1.019987  61.9572  78.8108  78.8108  78.8108  \n",
       "4 -0.368717 -0.440355  68.3258  71.4361  71.4361  71.4361  \n",
       "\n",
       "[5 rows x 28 columns]"
      ]
     },
     "execution_count": 8,
     "metadata": {},
     "output_type": "execute_result"
    }
   ],
   "source": [
    "data = pd.read_csv('data_voronoi_cartoradio.csv', sep=',')\n",
    "list_N, data_test = update_df(data)\n",
    "print(list_N)\n",
    "data_test.head()"
   ]
  },
  {
   "cell_type": "markdown",
   "id": "6ab49b62",
   "metadata": {},
   "source": [
    "Now that the data is read and transformed, we regroup the observations by the number of points $N$ and then create the models inputs for each value of $N$ using the function *models_input(N)*, but since this task takes so much time to be executed that we got the time-out error. That's why we already prepared, for each value of $N$, a file containing the data created locally, and we will read the files directly.\n",
    "\n",
    "#### N = 31"
   ]
  },
  {
   "cell_type": "code",
   "execution_count": 9,
   "id": "0aec199a",
   "metadata": {
    "tags": [
     "show-output",
     "show-input"
    ]
   },
   "outputs": [
    {
     "name": "stdout",
     "output_type": "stream",
     "text": [
      "N = 31\n",
      "------------------\n",
      "Logistic Regression Results\n",
      "0 [0.64423014 0.35576986]\n",
      "1 [0.08019266 0.91980734]\n",
      "------------------\n",
      "Random Forest Results\n"
     ]
    },
    {
     "name": "stdout",
     "output_type": "stream",
     "text": [
      "0 [0.62 0.38]\n",
      "1 [0.23 0.77]\n"
     ]
    }
   ],
   "source": [
    "data31 = pd.read_csv('data_31.csv', sep=',')\n",
    "X31 = data31[model_cols].values\n",
    "y31 = data31['type'].values\n",
    "X31_train, X31_test, y31_train, y31_test = train_test_split(X31, y31, test_size=0.3, shuffle=True, random_state=7)\n",
    "data_test_31 = data_test.iloc[[0, 7]]\n",
    "\n",
    "print('N = 31')\n",
    "print('------------------')\n",
    "print('Logistic Regression Results')\n",
    "Baseline_LR.fit(X31_train, y31_train)\n",
    "print(Baseline_LR.predict(data_test_31.values)[0], Baseline_LR.predict_proba(data_test_31.values)[0])\n",
    "print(Baseline_LR.predict(data_test_31.values)[1], Baseline_LR.predict_proba(data_test_31.values)[1])\n",
    "print('------------------')\n",
    "print('Random Forest Results')\n",
    "baseline_RF.fit(X31_train, y31_train)\n",
    "print(baseline_RF.predict(data_test_31.values)[0], baseline_RF.predict_proba(data_test_31.values)[0])\n",
    "print(baseline_RF.predict(data_test_31.values)[1], baseline_RF.predict_proba(data_test_31.values)[1])"
   ]
  },
  {
   "cell_type": "markdown",
   "id": "3e31c8a9",
   "metadata": {},
   "source": [
    "#### N = 23"
   ]
  },
  {
   "cell_type": "code",
   "execution_count": 10,
   "id": "54360e81",
   "metadata": {
    "tags": [
     "show-output",
     "show-input"
    ]
   },
   "outputs": [
    {
     "name": "stdout",
     "output_type": "stream",
     "text": [
      "N = 23\n",
      "------------------\n",
      "Logistic Regression Results\n",
      "1 [0.06596102 0.93403898]\n",
      "------------------\n",
      "Random Forest Results\n"
     ]
    },
    {
     "name": "stdout",
     "output_type": "stream",
     "text": [
      "1 [0.42 0.58]\n"
     ]
    }
   ],
   "source": [
    "data23 = pd.read_csv('data_23.csv', sep=',')\n",
    "X23 = data23[model_cols].values\n",
    "y23 = data23['type'].values\n",
    "X23_train, X23_test, y23_train, y23_test = train_test_split(X23, y23, test_size=0.3, shuffle=True, random_state=7)\n",
    "data_test_23 = data_test.iloc[[1]]\n",
    "\n",
    "print('N = 23')\n",
    "print('------------------')\n",
    "print('Logistic Regression Results')\n",
    "Baseline_LR.fit(X23_train, y23_train)\n",
    "print(Baseline_LR.predict(data_test_23.values)[0], Baseline_LR.predict_proba(data_test_23.values)[0])\n",
    "print('------------------')\n",
    "print('Random Forest Results')\n",
    "baseline_RF.fit(X23_train, y23_train)\n",
    "print(baseline_RF.predict(data_test_23.values)[0], baseline_RF.predict_proba(data_test_23.values)[0])"
   ]
  },
  {
   "cell_type": "markdown",
   "id": "7ec67c16",
   "metadata": {},
   "source": [
    "#### N = 22"
   ]
  },
  {
   "cell_type": "code",
   "execution_count": 11,
   "id": "6ead0bc8",
   "metadata": {
    "tags": [
     "show-output",
     "show-input"
    ]
   },
   "outputs": [
    {
     "name": "stdout",
     "output_type": "stream",
     "text": [
      "N = 22\n",
      "------------------\n",
      "Logistic Regression Results\n",
      "1 [0.18127125 0.81872875]\n",
      "1 [0.01796698 0.98203302]\n",
      "1 [0.02466654 0.97533346]\n",
      "------------------\n",
      "Random Forest Results\n"
     ]
    },
    {
     "name": "stdout",
     "output_type": "stream",
     "text": [
      "0 [0.65 0.35]\n",
      "1 [0.15 0.85]\n",
      "0 [0.53 0.47]\n"
     ]
    }
   ],
   "source": [
    "data22 = pd.read_csv('data_22.csv', sep=',')\n",
    "X22 = data22[model_cols].values\n",
    "y22 = data22['type'].values\n",
    "X22_train, X22_test, y22_train, y22_test = train_test_split(X22, y22, test_size=0.3, shuffle=True, random_state=7)\n",
    "data_test_22 = data_test.iloc[[2, 4, 9]]\n",
    "\n",
    "print('N = 22')\n",
    "print('------------------')\n",
    "print('Logistic Regression Results')\n",
    "Baseline_LR.fit(X22_train, y22_train)\n",
    "print(Baseline_LR.predict(data_test_22.values)[0], Baseline_LR.predict_proba(data_test_22.values)[0])\n",
    "print(Baseline_LR.predict(data_test_22.values)[1], Baseline_LR.predict_proba(data_test_22.values)[1])\n",
    "print(Baseline_LR.predict(data_test_22.values)[2], Baseline_LR.predict_proba(data_test_22.values)[2])\n",
    "print('------------------')\n",
    "print('Random Forest Results')\n",
    "baseline_RF.fit(X22_train, y22_train)\n",
    "print(baseline_RF.predict(data_test_22.values)[0], baseline_RF.predict_proba(data_test_22.values)[0])\n",
    "print(baseline_RF.predict(data_test_22.values)[1], baseline_RF.predict_proba(data_test_22.values)[1])\n",
    "print(baseline_RF.predict(data_test_22.values)[2], baseline_RF.predict_proba(data_test_22.values)[2])"
   ]
  },
  {
   "cell_type": "markdown",
   "id": "394a2306",
   "metadata": {},
   "source": [
    "#### N = 24"
   ]
  },
  {
   "cell_type": "code",
   "execution_count": 12,
   "id": "e79fcd2f",
   "metadata": {
    "tags": [
     "show-output",
     "show-input"
    ]
   },
   "outputs": [
    {
     "name": "stdout",
     "output_type": "stream",
     "text": [
      "N = 24\n",
      "------------------\n",
      "Logistic Regression Results\n",
      "1 [0.44707948 0.55292052]\n",
      "1 [0.44709033 0.55290967]\n",
      "------------------\n",
      "Random Forest Results\n"
     ]
    },
    {
     "name": "stdout",
     "output_type": "stream",
     "text": [
      "1 [0.34 0.66]\n",
      "1 [0.21 0.79]\n"
     ]
    }
   ],
   "source": [
    "data24 = pd.read_csv('data_24.csv', sep=',')\n",
    "X24 = data24[model_cols].values\n",
    "y24 = data24['type'].values\n",
    "X24_train, X24_test, y24_train, y24_test = train_test_split(X24, y24, test_size=0.3, shuffle=True, random_state=7)\n",
    "data_test_24 = data_test.iloc[[3, 6]]\n",
    "\n",
    "print('N = 24')\n",
    "print('------------------')\n",
    "print('Logistic Regression Results')\n",
    "Baseline_LR.fit(X24_train, y24_train)\n",
    "print(Baseline_LR.predict(data_test_24.values)[0], Baseline_LR.predict_proba(data_test_24.values)[0])\n",
    "print(Baseline_LR.predict(data_test_24.values)[1], Baseline_LR.predict_proba(data_test_24.values)[1])\n",
    "print('------------------')\n",
    "print('Random Forest Results')\n",
    "baseline_RF.fit(X24_train, y24_train)\n",
    "print(baseline_RF.predict(data_test_24.values)[0], baseline_RF.predict_proba(data_test_24.values)[0])\n",
    "print(baseline_RF.predict(data_test_24.values)[1], baseline_RF.predict_proba(data_test_24.values)[1])"
   ]
  },
  {
   "cell_type": "markdown",
   "id": "72d8d346",
   "metadata": {},
   "source": [
    "#### N = 46"
   ]
  },
  {
   "cell_type": "code",
   "execution_count": 13,
   "id": "dab202c6",
   "metadata": {
    "tags": [
     "show-output",
     "show-input"
    ]
   },
   "outputs": [
    {
     "name": "stdout",
     "output_type": "stream",
     "text": [
      "N = 46\n",
      "------------------\n",
      "Logistic Regression Results\n",
      "1 [0.45965142 0.54034858]\n",
      "------------------\n",
      "Random Forest Results\n"
     ]
    },
    {
     "name": "stdout",
     "output_type": "stream",
     "text": [
      "1 [0.42 0.58]\n"
     ]
    }
   ],
   "source": [
    "data46 = pd.read_csv('data_46.csv', sep=',')\n",
    "X46 = data46[model_cols].values\n",
    "y46 = data46['type'].values\n",
    "X46_train, X46_test, y46_train, y46_test = train_test_split(X46, y46, test_size=0.3, shuffle=True, random_state=7)\n",
    "data_test_46 = data_test.iloc[[5]]\n",
    "\n",
    "print('N = 46')\n",
    "print('------------------')\n",
    "print('Logistic Regression Results')\n",
    "Baseline_LR.fit(X46_train, y46_train)\n",
    "print(Baseline_LR.predict(data_test_46.values)[0], Baseline_LR.predict_proba(data_test_46.values)[0])\n",
    "print('------------------')\n",
    "print('Random Forest Results')\n",
    "baseline_RF.fit(X46_train, y46_train)\n",
    "print(baseline_RF.predict(data_test_46.values)[0], baseline_RF.predict_proba(data_test_46.values)[0])"
   ]
  },
  {
   "cell_type": "markdown",
   "id": "111cac22",
   "metadata": {},
   "source": [
    "#### N = 29"
   ]
  },
  {
   "cell_type": "code",
   "execution_count": 14,
   "id": "10a6c3f1",
   "metadata": {
    "tags": [
     "show-output",
     "show-input"
    ]
   },
   "outputs": [
    {
     "name": "stdout",
     "output_type": "stream",
     "text": [
      "N = 29\n",
      "------------------\n",
      "Logistic Regression Results\n",
      "1 [0.0175506 0.9824494]\n",
      "------------------\n",
      "Random Forest Results\n"
     ]
    },
    {
     "name": "stdout",
     "output_type": "stream",
     "text": [
      "1 [0.25 0.75]\n"
     ]
    }
   ],
   "source": [
    "data29 = pd.read_csv('data_29.csv', sep=',')\n",
    "X29 = data29[model_cols].values\n",
    "y29 = data29['type'].values\n",
    "X29_train, X29_test, y29_train, y29_test = train_test_split(X29, y29, test_size=0.3, shuffle=True, random_state=7)\n",
    "data_test_29 = data_test.iloc[[8]]\n",
    "\n",
    "print('N = 29')\n",
    "print('------------------')\n",
    "print('Logistic Regression Results')\n",
    "Baseline_LR.fit(X29_train, y29_train)\n",
    "print(Baseline_LR.predict(data_test_29.values)[0], Baseline_LR.predict_proba(data_test_29.values)[0])\n",
    "print('------------------')\n",
    "print('Random Forest Results')\n",
    "baseline_RF.fit(X29_train, y29_train)\n",
    "print(baseline_RF.predict(data_test_29.values)[0], baseline_RF.predict_proba(data_test_29.values)[0])"
   ]
  },
  {
   "cell_type": "markdown",
   "id": "de6a7c70",
   "metadata": {},
   "source": [
    "We can notice that the classification results are mostly positive, which means that the majority of the samples taken from the CARTORADIO data can be decided as repulsive configurations which is consistent with our starting hypothesis. For the configurations whose results were as non-repulsive, we can say that this is due to one of the two following reasons:\n",
    "- As long as we are dealing with real data, these two samples may be a non-repulsive ones and the results are actually coherent.\n",
    "- It is sure that the accuracy of our models is very high, but we may have some classification errors, which means that even if the configuration is repulsive, the model decides that it is not.\n",
    "\n",
    "## Conclusion\n",
    "\n",
    "In this paper it has been shown numerically (based on the theoretical results in {cite}`goldman_palm_2010`) that Voronoi cells represent an effective means for determining the nature of repulsion of a configuration (repulsive or not), and this by creating a database of various configurations and extracting the areas and perimeters of the Voronoi cells in order to use them as input to the classification models described earlier.\n",
    "\n",
    "Once the models are trained and tested on the data created, they are tested after that on real data, which are the positions of a mobile phone base stations in PARIS. Visually, we can easily say that these configurations are repulsive, which we have confirmed for the majority of these configurations by testing them by the previously trained models.\n",
    "\n",
    "```{bibliography}\n",
    ":style: unsrt\n",
    "```"
   ]
  }
 ],
 "metadata": {
  "author": "Hamza ADRAT and Laurent DECREUSEFOND",
  "jupytext": {
   "text_representation": {
    "extension": ".md",
    "format_name": "myst"
   }
  },
  "kernelspec": {
   "display_name": "Python 3",
   "language": "python",
   "name": "python3"
  },
  "language_info": {
   "codemirror_mode": {
    "name": "ipython",
    "version": 3
   },
   "file_extension": ".py",
   "mimetype": "text/x-python",
   "name": "python",
   "nbconvert_exporter": "python",
   "pygments_lexer": "ipython3",
   "version": "3.9.13"
  },
  "source_map": [
   13,
   189,
   197,
   340,
   344,
   351,
   363,
   425,
   428,
   435,
   439,
   446,
   466,
   508,
   516,
   522,
   543,
   546,
   565,
   568,
   591,
   594,
   615,
   618,
   637,
   640,
   659
  ],
  "title": "Point process discrimination according to repulsion"
 },
 "nbformat": 4,
 "nbformat_minor": 5
}